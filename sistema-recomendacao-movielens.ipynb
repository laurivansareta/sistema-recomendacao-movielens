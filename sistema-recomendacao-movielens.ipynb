{
 "cells": [
  {
   "cell_type": "markdown",
   "id": "4f0d5a19",
   "metadata": {
    "heading_collapsed": true
   },
   "source": [
    "# 0.0. Imports"
   ]
  },
  {
   "cell_type": "code",
   "execution_count": 1,
   "id": "39a0f1bd",
   "metadata": {
    "ExecuteTime": {
     "end_time": "2022-05-23T23:17:58.713002Z",
     "start_time": "2022-05-23T23:17:56.551906Z"
    },
    "hidden": true
   },
   "outputs": [],
   "source": [
    "import pandas as pd\n",
    "import matplotlib.pyplot as plt\n",
    "import numpy as np\n",
    "\n",
    "from math import sqrt"
   ]
  },
  {
   "cell_type": "markdown",
   "id": "88e25123",
   "metadata": {
    "heading_collapsed": true,
    "hidden": true
   },
   "source": [
    "## 0.1. Carregando Dados"
   ]
  },
  {
   "cell_type": "code",
   "execution_count": 2,
   "id": "1b2e845c",
   "metadata": {
    "ExecuteTime": {
     "end_time": "2022-05-23T23:17:58.775001Z",
     "start_time": "2022-05-23T23:17:58.714502Z"
    },
    "hidden": true
   },
   "outputs": [
    {
     "data": {
      "text/html": [
       "<div>\n",
       "<style scoped>\n",
       "    .dataframe tbody tr th:only-of-type {\n",
       "        vertical-align: middle;\n",
       "    }\n",
       "\n",
       "    .dataframe tbody tr th {\n",
       "        vertical-align: top;\n",
       "    }\n",
       "\n",
       "    .dataframe thead th {\n",
       "        text-align: right;\n",
       "    }\n",
       "</style>\n",
       "<table border=\"1\" class=\"dataframe\">\n",
       "  <thead>\n",
       "    <tr style=\"text-align: right;\">\n",
       "      <th></th>\n",
       "      <th>titulo</th>\n",
       "      <th>generos</th>\n",
       "    </tr>\n",
       "    <tr>\n",
       "      <th>filme_id</th>\n",
       "      <th></th>\n",
       "      <th></th>\n",
       "    </tr>\n",
       "  </thead>\n",
       "  <tbody>\n",
       "    <tr>\n",
       "      <th>1</th>\n",
       "      <td>Toy Story (1995)</td>\n",
       "      <td>Adventure|Animation|Children|Comedy|Fantasy</td>\n",
       "    </tr>\n",
       "    <tr>\n",
       "      <th>2</th>\n",
       "      <td>Jumanji (1995)</td>\n",
       "      <td>Adventure|Children|Fantasy</td>\n",
       "    </tr>\n",
       "    <tr>\n",
       "      <th>3</th>\n",
       "      <td>Grumpier Old Men (1995)</td>\n",
       "      <td>Comedy|Romance</td>\n",
       "    </tr>\n",
       "    <tr>\n",
       "      <th>4</th>\n",
       "      <td>Waiting to Exhale (1995)</td>\n",
       "      <td>Comedy|Drama|Romance</td>\n",
       "    </tr>\n",
       "    <tr>\n",
       "      <th>5</th>\n",
       "      <td>Father of the Bride Part II (1995)</td>\n",
       "      <td>Comedy</td>\n",
       "    </tr>\n",
       "  </tbody>\n",
       "</table>\n",
       "</div>"
      ],
      "text/plain": [
       "                                      titulo  \\\n",
       "filme_id                                       \n",
       "1                           Toy Story (1995)   \n",
       "2                             Jumanji (1995)   \n",
       "3                    Grumpier Old Men (1995)   \n",
       "4                   Waiting to Exhale (1995)   \n",
       "5         Father of the Bride Part II (1995)   \n",
       "\n",
       "                                              generos  \n",
       "filme_id                                               \n",
       "1         Adventure|Animation|Children|Comedy|Fantasy  \n",
       "2                          Adventure|Children|Fantasy  \n",
       "3                                      Comedy|Romance  \n",
       "4                                Comedy|Drama|Romance  \n",
       "5                                              Comedy  "
      ]
     },
     "execution_count": 2,
     "metadata": {},
     "output_type": "execute_result"
    }
   ],
   "source": [
    "filmes = pd.read_csv( 'dados/movies.csv' )\n",
    "filmes.columns = ['filme_id', 'titulo', 'generos']\n",
    "filmes = filmes.set_index('filme_id')\n",
    "filmes.head()"
   ]
  },
  {
   "cell_type": "code",
   "execution_count": 3,
   "id": "b515f290",
   "metadata": {
    "ExecuteTime": {
     "end_time": "2022-05-23T23:17:58.837003Z",
     "start_time": "2022-05-23T23:17:58.777002Z"
    },
    "hidden": true
   },
   "outputs": [
    {
     "data": {
      "text/html": [
       "<div>\n",
       "<style scoped>\n",
       "    .dataframe tbody tr th:only-of-type {\n",
       "        vertical-align: middle;\n",
       "    }\n",
       "\n",
       "    .dataframe tbody tr th {\n",
       "        vertical-align: top;\n",
       "    }\n",
       "\n",
       "    .dataframe thead th {\n",
       "        text-align: right;\n",
       "    }\n",
       "</style>\n",
       "<table border=\"1\" class=\"dataframe\">\n",
       "  <thead>\n",
       "    <tr style=\"text-align: right;\">\n",
       "      <th></th>\n",
       "      <th>usuario_id</th>\n",
       "      <th>filme_id</th>\n",
       "      <th>nota</th>\n",
       "      <th>momento</th>\n",
       "    </tr>\n",
       "  </thead>\n",
       "  <tbody>\n",
       "    <tr>\n",
       "      <th>0</th>\n",
       "      <td>1</td>\n",
       "      <td>1</td>\n",
       "      <td>4.0</td>\n",
       "      <td>964982703</td>\n",
       "    </tr>\n",
       "    <tr>\n",
       "      <th>1</th>\n",
       "      <td>1</td>\n",
       "      <td>3</td>\n",
       "      <td>4.0</td>\n",
       "      <td>964981247</td>\n",
       "    </tr>\n",
       "    <tr>\n",
       "      <th>2</th>\n",
       "      <td>1</td>\n",
       "      <td>6</td>\n",
       "      <td>4.0</td>\n",
       "      <td>964982224</td>\n",
       "    </tr>\n",
       "    <tr>\n",
       "      <th>3</th>\n",
       "      <td>1</td>\n",
       "      <td>47</td>\n",
       "      <td>5.0</td>\n",
       "      <td>964983815</td>\n",
       "    </tr>\n",
       "    <tr>\n",
       "      <th>4</th>\n",
       "      <td>1</td>\n",
       "      <td>50</td>\n",
       "      <td>5.0</td>\n",
       "      <td>964982931</td>\n",
       "    </tr>\n",
       "  </tbody>\n",
       "</table>\n",
       "</div>"
      ],
      "text/plain": [
       "   usuario_id  filme_id  nota    momento\n",
       "0           1         1   4.0  964982703\n",
       "1           1         3   4.0  964981247\n",
       "2           1         6   4.0  964982224\n",
       "3           1        47   5.0  964983815\n",
       "4           1        50   5.0  964982931"
      ]
     },
     "execution_count": 3,
     "metadata": {},
     "output_type": "execute_result"
    }
   ],
   "source": [
    "notas = pd.read_csv( 'dados/ratings.csv' )\n",
    "notas.columns = ['usuario_id', 'filme_id', 'nota', 'momento']\n",
    "notas.head()"
   ]
  },
  {
   "cell_type": "code",
   "execution_count": 4,
   "id": "0d6fc122",
   "metadata": {
    "ExecuteTime": {
     "end_time": "2022-05-23T23:17:58.883501Z",
     "start_time": "2022-05-23T23:17:58.839504Z"
    },
    "hidden": true
   },
   "outputs": [
    {
     "data": {
      "text/html": [
       "<div>\n",
       "<style scoped>\n",
       "    .dataframe tbody tr th:only-of-type {\n",
       "        vertical-align: middle;\n",
       "    }\n",
       "\n",
       "    .dataframe tbody tr th {\n",
       "        vertical-align: top;\n",
       "    }\n",
       "\n",
       "    .dataframe thead th {\n",
       "        text-align: right;\n",
       "    }\n",
       "</style>\n",
       "<table border=\"1\" class=\"dataframe\">\n",
       "  <thead>\n",
       "    <tr style=\"text-align: right;\">\n",
       "      <th></th>\n",
       "      <th>usuario_id</th>\n",
       "      <th>filme_id</th>\n",
       "      <th>nota</th>\n",
       "      <th>momento</th>\n",
       "    </tr>\n",
       "  </thead>\n",
       "  <tbody>\n",
       "    <tr>\n",
       "      <th>count</th>\n",
       "      <td>100836.000000</td>\n",
       "      <td>100836.000000</td>\n",
       "      <td>100836.000000</td>\n",
       "      <td>1.008360e+05</td>\n",
       "    </tr>\n",
       "    <tr>\n",
       "      <th>mean</th>\n",
       "      <td>326.127564</td>\n",
       "      <td>19435.295718</td>\n",
       "      <td>3.501557</td>\n",
       "      <td>1.205946e+09</td>\n",
       "    </tr>\n",
       "    <tr>\n",
       "      <th>std</th>\n",
       "      <td>182.618491</td>\n",
       "      <td>35530.987199</td>\n",
       "      <td>1.042529</td>\n",
       "      <td>2.162610e+08</td>\n",
       "    </tr>\n",
       "    <tr>\n",
       "      <th>min</th>\n",
       "      <td>1.000000</td>\n",
       "      <td>1.000000</td>\n",
       "      <td>0.500000</td>\n",
       "      <td>8.281246e+08</td>\n",
       "    </tr>\n",
       "    <tr>\n",
       "      <th>25%</th>\n",
       "      <td>177.000000</td>\n",
       "      <td>1199.000000</td>\n",
       "      <td>3.000000</td>\n",
       "      <td>1.019124e+09</td>\n",
       "    </tr>\n",
       "    <tr>\n",
       "      <th>50%</th>\n",
       "      <td>325.000000</td>\n",
       "      <td>2991.000000</td>\n",
       "      <td>3.500000</td>\n",
       "      <td>1.186087e+09</td>\n",
       "    </tr>\n",
       "    <tr>\n",
       "      <th>75%</th>\n",
       "      <td>477.000000</td>\n",
       "      <td>8122.000000</td>\n",
       "      <td>4.000000</td>\n",
       "      <td>1.435994e+09</td>\n",
       "    </tr>\n",
       "    <tr>\n",
       "      <th>max</th>\n",
       "      <td>610.000000</td>\n",
       "      <td>193609.000000</td>\n",
       "      <td>5.000000</td>\n",
       "      <td>1.537799e+09</td>\n",
       "    </tr>\n",
       "  </tbody>\n",
       "</table>\n",
       "</div>"
      ],
      "text/plain": [
       "          usuario_id       filme_id           nota       momento\n",
       "count  100836.000000  100836.000000  100836.000000  1.008360e+05\n",
       "mean      326.127564   19435.295718       3.501557  1.205946e+09\n",
       "std       182.618491   35530.987199       1.042529  2.162610e+08\n",
       "min         1.000000       1.000000       0.500000  8.281246e+08\n",
       "25%       177.000000    1199.000000       3.000000  1.019124e+09\n",
       "50%       325.000000    2991.000000       3.500000  1.186087e+09\n",
       "75%       477.000000    8122.000000       4.000000  1.435994e+09\n",
       "max       610.000000  193609.000000       5.000000  1.537799e+09"
      ]
     },
     "execution_count": 4,
     "metadata": {},
     "output_type": "execute_result"
    }
   ],
   "source": [
    "notas.describe()"
   ]
  },
  {
   "cell_type": "markdown",
   "id": "cf0df697",
   "metadata": {
    "heading_collapsed": true
   },
   "source": [
    "# 1.0. Primeira abordagem de recomendação: Heurística de total de votos"
   ]
  },
  {
   "cell_type": "code",
   "execution_count": 5,
   "id": "ac46658c",
   "metadata": {
    "ExecuteTime": {
     "end_time": "2022-05-23T23:17:58.914501Z",
     "start_time": "2022-05-23T23:17:58.885002Z"
    },
    "hidden": true
   },
   "outputs": [],
   "source": [
    "total_votos = notas['filme_id'].value_counts()\n",
    "filmes['total_votos'] = total_votos"
   ]
  },
  {
   "cell_type": "markdown",
   "id": "0305e3c6",
   "metadata": {
    "heading_collapsed": true,
    "hidden": true
   },
   "source": [
    "## 1.1. Ordenando pelo total de votos"
   ]
  },
  {
   "cell_type": "code",
   "execution_count": 6,
   "id": "118df05f",
   "metadata": {
    "ExecuteTime": {
     "end_time": "2022-05-23T23:17:58.930004Z",
     "start_time": "2022-05-23T23:17:58.915501Z"
    },
    "hidden": true
   },
   "outputs": [
    {
     "data": {
      "text/html": [
       "<div>\n",
       "<style scoped>\n",
       "    .dataframe tbody tr th:only-of-type {\n",
       "        vertical-align: middle;\n",
       "    }\n",
       "\n",
       "    .dataframe tbody tr th {\n",
       "        vertical-align: top;\n",
       "    }\n",
       "\n",
       "    .dataframe thead th {\n",
       "        text-align: right;\n",
       "    }\n",
       "</style>\n",
       "<table border=\"1\" class=\"dataframe\">\n",
       "  <thead>\n",
       "    <tr style=\"text-align: right;\">\n",
       "      <th></th>\n",
       "      <th>titulo</th>\n",
       "      <th>generos</th>\n",
       "      <th>total_votos</th>\n",
       "    </tr>\n",
       "    <tr>\n",
       "      <th>filme_id</th>\n",
       "      <th></th>\n",
       "      <th></th>\n",
       "      <th></th>\n",
       "    </tr>\n",
       "  </thead>\n",
       "  <tbody>\n",
       "    <tr>\n",
       "      <th>356</th>\n",
       "      <td>Forrest Gump (1994)</td>\n",
       "      <td>Comedy|Drama|Romance|War</td>\n",
       "      <td>329.0</td>\n",
       "    </tr>\n",
       "    <tr>\n",
       "      <th>318</th>\n",
       "      <td>Shawshank Redemption, The (1994)</td>\n",
       "      <td>Crime|Drama</td>\n",
       "      <td>317.0</td>\n",
       "    </tr>\n",
       "    <tr>\n",
       "      <th>296</th>\n",
       "      <td>Pulp Fiction (1994)</td>\n",
       "      <td>Comedy|Crime|Drama|Thriller</td>\n",
       "      <td>307.0</td>\n",
       "    </tr>\n",
       "    <tr>\n",
       "      <th>593</th>\n",
       "      <td>Silence of the Lambs, The (1991)</td>\n",
       "      <td>Crime|Horror|Thriller</td>\n",
       "      <td>279.0</td>\n",
       "    </tr>\n",
       "    <tr>\n",
       "      <th>2571</th>\n",
       "      <td>Matrix, The (1999)</td>\n",
       "      <td>Action|Sci-Fi|Thriller</td>\n",
       "      <td>278.0</td>\n",
       "    </tr>\n",
       "  </tbody>\n",
       "</table>\n",
       "</div>"
      ],
      "text/plain": [
       "                                    titulo                      generos  \\\n",
       "filme_id                                                                  \n",
       "356                    Forrest Gump (1994)     Comedy|Drama|Romance|War   \n",
       "318       Shawshank Redemption, The (1994)                  Crime|Drama   \n",
       "296                    Pulp Fiction (1994)  Comedy|Crime|Drama|Thriller   \n",
       "593       Silence of the Lambs, The (1991)        Crime|Horror|Thriller   \n",
       "2571                    Matrix, The (1999)       Action|Sci-Fi|Thriller   \n",
       "\n",
       "          total_votos  \n",
       "filme_id               \n",
       "356             329.0  \n",
       "318             317.0  \n",
       "296             307.0  \n",
       "593             279.0  \n",
       "2571            278.0  "
      ]
     },
     "execution_count": 6,
     "metadata": {},
     "output_type": "execute_result"
    }
   ],
   "source": [
    "filmes.sort_values('total_votos', ascending=False).head()"
   ]
  },
  {
   "cell_type": "code",
   "execution_count": 7,
   "id": "6fe5a5e6",
   "metadata": {
    "ExecuteTime": {
     "end_time": "2022-05-23T23:17:58.961000Z",
     "start_time": "2022-05-23T23:17:58.932503Z"
    },
    "hidden": true,
    "scrolled": false
   },
   "outputs": [
    {
     "data": {
      "text/html": [
       "<div>\n",
       "<style scoped>\n",
       "    .dataframe tbody tr th:only-of-type {\n",
       "        vertical-align: middle;\n",
       "    }\n",
       "\n",
       "    .dataframe tbody tr th {\n",
       "        vertical-align: top;\n",
       "    }\n",
       "\n",
       "    .dataframe thead th {\n",
       "        text-align: right;\n",
       "    }\n",
       "</style>\n",
       "<table border=\"1\" class=\"dataframe\">\n",
       "  <thead>\n",
       "    <tr style=\"text-align: right;\">\n",
       "      <th></th>\n",
       "      <th>titulo</th>\n",
       "      <th>generos</th>\n",
       "      <th>total_votos</th>\n",
       "      <th>nota_media</th>\n",
       "    </tr>\n",
       "    <tr>\n",
       "      <th>filme_id</th>\n",
       "      <th></th>\n",
       "      <th></th>\n",
       "      <th></th>\n",
       "      <th></th>\n",
       "    </tr>\n",
       "  </thead>\n",
       "  <tbody>\n",
       "    <tr>\n",
       "      <th>356</th>\n",
       "      <td>Forrest Gump (1994)</td>\n",
       "      <td>Comedy|Drama|Romance|War</td>\n",
       "      <td>329.0</td>\n",
       "      <td>4.164134</td>\n",
       "    </tr>\n",
       "    <tr>\n",
       "      <th>318</th>\n",
       "      <td>Shawshank Redemption, The (1994)</td>\n",
       "      <td>Crime|Drama</td>\n",
       "      <td>317.0</td>\n",
       "      <td>4.429022</td>\n",
       "    </tr>\n",
       "    <tr>\n",
       "      <th>296</th>\n",
       "      <td>Pulp Fiction (1994)</td>\n",
       "      <td>Comedy|Crime|Drama|Thriller</td>\n",
       "      <td>307.0</td>\n",
       "      <td>4.197068</td>\n",
       "    </tr>\n",
       "    <tr>\n",
       "      <th>593</th>\n",
       "      <td>Silence of the Lambs, The (1991)</td>\n",
       "      <td>Crime|Horror|Thriller</td>\n",
       "      <td>279.0</td>\n",
       "      <td>4.161290</td>\n",
       "    </tr>\n",
       "    <tr>\n",
       "      <th>2571</th>\n",
       "      <td>Matrix, The (1999)</td>\n",
       "      <td>Action|Sci-Fi|Thriller</td>\n",
       "      <td>278.0</td>\n",
       "      <td>4.192446</td>\n",
       "    </tr>\n",
       "    <tr>\n",
       "      <th>260</th>\n",
       "      <td>Star Wars: Episode IV - A New Hope (1977)</td>\n",
       "      <td>Action|Adventure|Sci-Fi</td>\n",
       "      <td>251.0</td>\n",
       "      <td>4.231076</td>\n",
       "    </tr>\n",
       "    <tr>\n",
       "      <th>480</th>\n",
       "      <td>Jurassic Park (1993)</td>\n",
       "      <td>Action|Adventure|Sci-Fi|Thriller</td>\n",
       "      <td>238.0</td>\n",
       "      <td>3.750000</td>\n",
       "    </tr>\n",
       "    <tr>\n",
       "      <th>110</th>\n",
       "      <td>Braveheart (1995)</td>\n",
       "      <td>Action|Drama|War</td>\n",
       "      <td>237.0</td>\n",
       "      <td>4.031646</td>\n",
       "    </tr>\n",
       "    <tr>\n",
       "      <th>589</th>\n",
       "      <td>Terminator 2: Judgment Day (1991)</td>\n",
       "      <td>Action|Sci-Fi</td>\n",
       "      <td>224.0</td>\n",
       "      <td>3.970982</td>\n",
       "    </tr>\n",
       "    <tr>\n",
       "      <th>527</th>\n",
       "      <td>Schindler's List (1993)</td>\n",
       "      <td>Drama|War</td>\n",
       "      <td>220.0</td>\n",
       "      <td>4.225000</td>\n",
       "    </tr>\n",
       "  </tbody>\n",
       "</table>\n",
       "</div>"
      ],
      "text/plain": [
       "                                             titulo  \\\n",
       "filme_id                                              \n",
       "356                             Forrest Gump (1994)   \n",
       "318                Shawshank Redemption, The (1994)   \n",
       "296                             Pulp Fiction (1994)   \n",
       "593                Silence of the Lambs, The (1991)   \n",
       "2571                             Matrix, The (1999)   \n",
       "260       Star Wars: Episode IV - A New Hope (1977)   \n",
       "480                            Jurassic Park (1993)   \n",
       "110                               Braveheart (1995)   \n",
       "589               Terminator 2: Judgment Day (1991)   \n",
       "527                         Schindler's List (1993)   \n",
       "\n",
       "                                   generos  total_votos  nota_media  \n",
       "filme_id                                                             \n",
       "356               Comedy|Drama|Romance|War        329.0    4.164134  \n",
       "318                            Crime|Drama        317.0    4.429022  \n",
       "296            Comedy|Crime|Drama|Thriller        307.0    4.197068  \n",
       "593                  Crime|Horror|Thriller        279.0    4.161290  \n",
       "2571                Action|Sci-Fi|Thriller        278.0    4.192446  \n",
       "260                Action|Adventure|Sci-Fi        251.0    4.231076  \n",
       "480       Action|Adventure|Sci-Fi|Thriller        238.0    3.750000  \n",
       "110                       Action|Drama|War        237.0    4.031646  \n",
       "589                          Action|Sci-Fi        224.0    3.970982  \n",
       "527                              Drama|War        220.0    4.225000  "
      ]
     },
     "execution_count": 7,
     "metadata": {},
     "output_type": "execute_result"
    }
   ],
   "source": [
    "notas_medias = notas.groupby( 'filme_id' ).mean()['nota']\n",
    "filmes['nota_media'] = notas_medias\n",
    "filmes.sort_values('total_votos', ascending=False).head(10)"
   ]
  },
  {
   "cell_type": "markdown",
   "id": "0ad94a7d",
   "metadata": {
    "hidden": true
   },
   "source": [
    "Se ordenar pelo total de votos podemos observar que a nota média não condiz com as mais bem avaliadas primeiro. \n",
    "\n",
    "Então vamos tentar ordenar pela nota média."
   ]
  },
  {
   "cell_type": "markdown",
   "id": "651d17ac",
   "metadata": {},
   "source": [
    "# 2.0. Ordenando pela nota média"
   ]
  },
  {
   "cell_type": "code",
   "execution_count": 8,
   "id": "c6850c04",
   "metadata": {
    "ExecuteTime": {
     "end_time": "2022-05-23T23:17:58.976502Z",
     "start_time": "2022-05-23T23:17:58.963007Z"
    }
   },
   "outputs": [
    {
     "data": {
      "text/html": [
       "<div>\n",
       "<style scoped>\n",
       "    .dataframe tbody tr th:only-of-type {\n",
       "        vertical-align: middle;\n",
       "    }\n",
       "\n",
       "    .dataframe tbody tr th {\n",
       "        vertical-align: top;\n",
       "    }\n",
       "\n",
       "    .dataframe thead th {\n",
       "        text-align: right;\n",
       "    }\n",
       "</style>\n",
       "<table border=\"1\" class=\"dataframe\">\n",
       "  <thead>\n",
       "    <tr style=\"text-align: right;\">\n",
       "      <th></th>\n",
       "      <th>titulo</th>\n",
       "      <th>generos</th>\n",
       "      <th>total_votos</th>\n",
       "      <th>nota_media</th>\n",
       "    </tr>\n",
       "    <tr>\n",
       "      <th>filme_id</th>\n",
       "      <th></th>\n",
       "      <th></th>\n",
       "      <th></th>\n",
       "      <th></th>\n",
       "    </tr>\n",
       "  </thead>\n",
       "  <tbody>\n",
       "    <tr>\n",
       "      <th>88448</th>\n",
       "      <td>Paper Birds (Pájaros de papel) (2010)</td>\n",
       "      <td>Comedy|Drama</td>\n",
       "      <td>1.0</td>\n",
       "      <td>5.0</td>\n",
       "    </tr>\n",
       "    <tr>\n",
       "      <th>100556</th>\n",
       "      <td>Act of Killing, The (2012)</td>\n",
       "      <td>Documentary</td>\n",
       "      <td>1.0</td>\n",
       "      <td>5.0</td>\n",
       "    </tr>\n",
       "    <tr>\n",
       "      <th>143031</th>\n",
       "      <td>Jump In! (2007)</td>\n",
       "      <td>Comedy|Drama|Romance</td>\n",
       "      <td>1.0</td>\n",
       "      <td>5.0</td>\n",
       "    </tr>\n",
       "    <tr>\n",
       "      <th>143511</th>\n",
       "      <td>Human (2015)</td>\n",
       "      <td>Documentary</td>\n",
       "      <td>1.0</td>\n",
       "      <td>5.0</td>\n",
       "    </tr>\n",
       "    <tr>\n",
       "      <th>143559</th>\n",
       "      <td>L.A. Slasher (2015)</td>\n",
       "      <td>Comedy|Crime|Fantasy</td>\n",
       "      <td>1.0</td>\n",
       "      <td>5.0</td>\n",
       "    </tr>\n",
       "    <tr>\n",
       "      <th>6201</th>\n",
       "      <td>Lady Jane (1986)</td>\n",
       "      <td>Drama|Romance</td>\n",
       "      <td>1.0</td>\n",
       "      <td>5.0</td>\n",
       "    </tr>\n",
       "    <tr>\n",
       "      <th>102217</th>\n",
       "      <td>Bill Hicks: Revelations (1993)</td>\n",
       "      <td>Comedy</td>\n",
       "      <td>1.0</td>\n",
       "      <td>5.0</td>\n",
       "    </tr>\n",
       "    <tr>\n",
       "      <th>102084</th>\n",
       "      <td>Justice League: Doom (2012)</td>\n",
       "      <td>Action|Animation|Fantasy</td>\n",
       "      <td>1.0</td>\n",
       "      <td>5.0</td>\n",
       "    </tr>\n",
       "    <tr>\n",
       "      <th>6192</th>\n",
       "      <td>Open Hearts (Elsker dig for evigt) (2002)</td>\n",
       "      <td>Romance</td>\n",
       "      <td>1.0</td>\n",
       "      <td>5.0</td>\n",
       "    </tr>\n",
       "    <tr>\n",
       "      <th>145994</th>\n",
       "      <td>Formula of Love (1984)</td>\n",
       "      <td>Comedy</td>\n",
       "      <td>1.0</td>\n",
       "      <td>5.0</td>\n",
       "    </tr>\n",
       "  </tbody>\n",
       "</table>\n",
       "</div>"
      ],
      "text/plain": [
       "                                             titulo                   generos  \\\n",
       "filme_id                                                                        \n",
       "88448         Paper Birds (Pájaros de papel) (2010)              Comedy|Drama   \n",
       "100556                   Act of Killing, The (2012)               Documentary   \n",
       "143031                              Jump In! (2007)      Comedy|Drama|Romance   \n",
       "143511                                 Human (2015)               Documentary   \n",
       "143559                          L.A. Slasher (2015)      Comedy|Crime|Fantasy   \n",
       "6201                               Lady Jane (1986)             Drama|Romance   \n",
       "102217               Bill Hicks: Revelations (1993)                    Comedy   \n",
       "102084                 Justice League: Doom (2012)   Action|Animation|Fantasy   \n",
       "6192      Open Hearts (Elsker dig for evigt) (2002)                   Romance   \n",
       "145994                       Formula of Love (1984)                    Comedy   \n",
       "\n",
       "          total_votos  nota_media  \n",
       "filme_id                           \n",
       "88448             1.0         5.0  \n",
       "100556            1.0         5.0  \n",
       "143031            1.0         5.0  \n",
       "143511            1.0         5.0  \n",
       "143559            1.0         5.0  \n",
       "6201              1.0         5.0  \n",
       "102217            1.0         5.0  \n",
       "102084            1.0         5.0  \n",
       "6192              1.0         5.0  \n",
       "145994            1.0         5.0  "
      ]
     },
     "execution_count": 8,
     "metadata": {},
     "output_type": "execute_result"
    }
   ],
   "source": [
    "filmes.sort_values('nota_media', ascending=False).head(10)"
   ]
  },
  {
   "cell_type": "markdown",
   "id": "16b98616",
   "metadata": {},
   "source": [
    "Pela nota média também não é uma abordagem boa, pois pode ter filmes com apenas uma avaliação e nota máxima, não condizendo com uma recomendação assertiva"
   ]
  },
  {
   "cell_type": "markdown",
   "id": "beb1ad9e",
   "metadata": {
    "heading_collapsed": true
   },
   "source": [
    "## 2.1. Filtrando para votos com uma quantidade de avaliações"
   ]
  },
  {
   "cell_type": "code",
   "execution_count": 9,
   "id": "410f243c",
   "metadata": {
    "ExecuteTime": {
     "end_time": "2022-05-23T23:17:59.008004Z",
     "start_time": "2022-05-23T23:17:58.980004Z"
    },
    "hidden": true
   },
   "outputs": [
    {
     "data": {
      "text/html": [
       "<div>\n",
       "<style scoped>\n",
       "    .dataframe tbody tr th:only-of-type {\n",
       "        vertical-align: middle;\n",
       "    }\n",
       "\n",
       "    .dataframe tbody tr th {\n",
       "        vertical-align: top;\n",
       "    }\n",
       "\n",
       "    .dataframe thead th {\n",
       "        text-align: right;\n",
       "    }\n",
       "</style>\n",
       "<table border=\"1\" class=\"dataframe\">\n",
       "  <thead>\n",
       "    <tr style=\"text-align: right;\">\n",
       "      <th></th>\n",
       "      <th>titulo</th>\n",
       "      <th>generos</th>\n",
       "      <th>total_votos</th>\n",
       "      <th>nota_media</th>\n",
       "    </tr>\n",
       "    <tr>\n",
       "      <th>filme_id</th>\n",
       "      <th></th>\n",
       "      <th></th>\n",
       "      <th></th>\n",
       "      <th></th>\n",
       "    </tr>\n",
       "  </thead>\n",
       "  <tbody>\n",
       "    <tr>\n",
       "      <th>1041</th>\n",
       "      <td>Secrets &amp; Lies (1996)</td>\n",
       "      <td>Drama</td>\n",
       "      <td>11.0</td>\n",
       "      <td>4.590909</td>\n",
       "    </tr>\n",
       "    <tr>\n",
       "      <th>3451</th>\n",
       "      <td>Guess Who's Coming to Dinner (1967)</td>\n",
       "      <td>Drama</td>\n",
       "      <td>11.0</td>\n",
       "      <td>4.545455</td>\n",
       "    </tr>\n",
       "    <tr>\n",
       "      <th>1178</th>\n",
       "      <td>Paths of Glory (1957)</td>\n",
       "      <td>Drama|War</td>\n",
       "      <td>12.0</td>\n",
       "      <td>4.541667</td>\n",
       "    </tr>\n",
       "    <tr>\n",
       "      <th>1104</th>\n",
       "      <td>Streetcar Named Desire, A (1951)</td>\n",
       "      <td>Drama</td>\n",
       "      <td>20.0</td>\n",
       "      <td>4.475000</td>\n",
       "    </tr>\n",
       "    <tr>\n",
       "      <th>2360</th>\n",
       "      <td>Celebration, The (Festen) (1998)</td>\n",
       "      <td>Drama</td>\n",
       "      <td>12.0</td>\n",
       "      <td>4.458333</td>\n",
       "    </tr>\n",
       "    <tr>\n",
       "      <th>1217</th>\n",
       "      <td>Ran (1985)</td>\n",
       "      <td>Drama|War</td>\n",
       "      <td>15.0</td>\n",
       "      <td>4.433333</td>\n",
       "    </tr>\n",
       "    <tr>\n",
       "      <th>318</th>\n",
       "      <td>Shawshank Redemption, The (1994)</td>\n",
       "      <td>Crime|Drama</td>\n",
       "      <td>317.0</td>\n",
       "      <td>4.429022</td>\n",
       "    </tr>\n",
       "    <tr>\n",
       "      <th>951</th>\n",
       "      <td>His Girl Friday (1940)</td>\n",
       "      <td>Comedy|Romance</td>\n",
       "      <td>14.0</td>\n",
       "      <td>4.392857</td>\n",
       "    </tr>\n",
       "    <tr>\n",
       "      <th>1927</th>\n",
       "      <td>All Quiet on the Western Front (1930)</td>\n",
       "      <td>Action|Drama|War</td>\n",
       "      <td>10.0</td>\n",
       "      <td>4.350000</td>\n",
       "    </tr>\n",
       "    <tr>\n",
       "      <th>3468</th>\n",
       "      <td>Hustler, The (1961)</td>\n",
       "      <td>Drama</td>\n",
       "      <td>18.0</td>\n",
       "      <td>4.333333</td>\n",
       "    </tr>\n",
       "  </tbody>\n",
       "</table>\n",
       "</div>"
      ],
      "text/plain": [
       "                                         titulo           generos  \\\n",
       "filme_id                                                            \n",
       "1041                      Secrets & Lies (1996)             Drama   \n",
       "3451        Guess Who's Coming to Dinner (1967)             Drama   \n",
       "1178                      Paths of Glory (1957)         Drama|War   \n",
       "1104           Streetcar Named Desire, A (1951)             Drama   \n",
       "2360           Celebration, The (Festen) (1998)             Drama   \n",
       "1217                                 Ran (1985)         Drama|War   \n",
       "318            Shawshank Redemption, The (1994)       Crime|Drama   \n",
       "951                      His Girl Friday (1940)    Comedy|Romance   \n",
       "1927      All Quiet on the Western Front (1930)  Action|Drama|War   \n",
       "3468                        Hustler, The (1961)             Drama   \n",
       "\n",
       "          total_votos  nota_media  \n",
       "filme_id                           \n",
       "1041             11.0    4.590909  \n",
       "3451             11.0    4.545455  \n",
       "1178             12.0    4.541667  \n",
       "1104             20.0    4.475000  \n",
       "2360             12.0    4.458333  \n",
       "1217             15.0    4.433333  \n",
       "318             317.0    4.429022  \n",
       "951              14.0    4.392857  \n",
       "1927             10.0    4.350000  \n",
       "3468             18.0    4.333333  "
      ]
     },
     "execution_count": 9,
     "metadata": {},
     "output_type": "execute_result"
    }
   ],
   "source": [
    "filmes.query('total_votos >= 10').sort_values('nota_media', ascending=False).head(10)"
   ]
  },
  {
   "cell_type": "code",
   "execution_count": 10,
   "id": "799223d6",
   "metadata": {
    "ExecuteTime": {
     "end_time": "2022-05-23T23:17:59.023003Z",
     "start_time": "2022-05-23T23:17:59.010504Z"
    },
    "hidden": true
   },
   "outputs": [
    {
     "data": {
      "text/html": [
       "<div>\n",
       "<style scoped>\n",
       "    .dataframe tbody tr th:only-of-type {\n",
       "        vertical-align: middle;\n",
       "    }\n",
       "\n",
       "    .dataframe tbody tr th {\n",
       "        vertical-align: top;\n",
       "    }\n",
       "\n",
       "    .dataframe thead th {\n",
       "        text-align: right;\n",
       "    }\n",
       "</style>\n",
       "<table border=\"1\" class=\"dataframe\">\n",
       "  <thead>\n",
       "    <tr style=\"text-align: right;\">\n",
       "      <th></th>\n",
       "      <th>titulo</th>\n",
       "      <th>generos</th>\n",
       "      <th>total_votos</th>\n",
       "      <th>nota_media</th>\n",
       "    </tr>\n",
       "    <tr>\n",
       "      <th>filme_id</th>\n",
       "      <th></th>\n",
       "      <th></th>\n",
       "      <th></th>\n",
       "      <th></th>\n",
       "    </tr>\n",
       "  </thead>\n",
       "  <tbody>\n",
       "    <tr>\n",
       "      <th>318</th>\n",
       "      <td>Shawshank Redemption, The (1994)</td>\n",
       "      <td>Crime|Drama</td>\n",
       "      <td>317.0</td>\n",
       "      <td>4.429022</td>\n",
       "    </tr>\n",
       "    <tr>\n",
       "      <th>858</th>\n",
       "      <td>Godfather, The (1972)</td>\n",
       "      <td>Crime|Drama</td>\n",
       "      <td>192.0</td>\n",
       "      <td>4.289062</td>\n",
       "    </tr>\n",
       "    <tr>\n",
       "      <th>2959</th>\n",
       "      <td>Fight Club (1999)</td>\n",
       "      <td>Action|Crime|Drama|Thriller</td>\n",
       "      <td>218.0</td>\n",
       "      <td>4.272936</td>\n",
       "    </tr>\n",
       "    <tr>\n",
       "      <th>1276</th>\n",
       "      <td>Cool Hand Luke (1967)</td>\n",
       "      <td>Drama</td>\n",
       "      <td>57.0</td>\n",
       "      <td>4.271930</td>\n",
       "    </tr>\n",
       "    <tr>\n",
       "      <th>750</th>\n",
       "      <td>Dr. Strangelove or: How I Learned to Stop Worr...</td>\n",
       "      <td>Comedy|War</td>\n",
       "      <td>97.0</td>\n",
       "      <td>4.268041</td>\n",
       "    </tr>\n",
       "    <tr>\n",
       "      <th>904</th>\n",
       "      <td>Rear Window (1954)</td>\n",
       "      <td>Mystery|Thriller</td>\n",
       "      <td>84.0</td>\n",
       "      <td>4.261905</td>\n",
       "    </tr>\n",
       "    <tr>\n",
       "      <th>1221</th>\n",
       "      <td>Godfather: Part II, The (1974)</td>\n",
       "      <td>Crime|Drama</td>\n",
       "      <td>129.0</td>\n",
       "      <td>4.259690</td>\n",
       "    </tr>\n",
       "    <tr>\n",
       "      <th>48516</th>\n",
       "      <td>Departed, The (2006)</td>\n",
       "      <td>Crime|Drama|Thriller</td>\n",
       "      <td>107.0</td>\n",
       "      <td>4.252336</td>\n",
       "    </tr>\n",
       "    <tr>\n",
       "      <th>1213</th>\n",
       "      <td>Goodfellas (1990)</td>\n",
       "      <td>Crime|Drama</td>\n",
       "      <td>126.0</td>\n",
       "      <td>4.250000</td>\n",
       "    </tr>\n",
       "    <tr>\n",
       "      <th>912</th>\n",
       "      <td>Casablanca (1942)</td>\n",
       "      <td>Drama|Romance</td>\n",
       "      <td>100.0</td>\n",
       "      <td>4.240000</td>\n",
       "    </tr>\n",
       "  </tbody>\n",
       "</table>\n",
       "</div>"
      ],
      "text/plain": [
       "                                                     titulo  \\\n",
       "filme_id                                                      \n",
       "318                        Shawshank Redemption, The (1994)   \n",
       "858                                   Godfather, The (1972)   \n",
       "2959                                      Fight Club (1999)   \n",
       "1276                                  Cool Hand Luke (1967)   \n",
       "750       Dr. Strangelove or: How I Learned to Stop Worr...   \n",
       "904                                      Rear Window (1954)   \n",
       "1221                         Godfather: Part II, The (1974)   \n",
       "48516                                  Departed, The (2006)   \n",
       "1213                                      Goodfellas (1990)   \n",
       "912                                       Casablanca (1942)   \n",
       "\n",
       "                              generos  total_votos  nota_media  \n",
       "filme_id                                                        \n",
       "318                       Crime|Drama        317.0    4.429022  \n",
       "858                       Crime|Drama        192.0    4.289062  \n",
       "2959      Action|Crime|Drama|Thriller        218.0    4.272936  \n",
       "1276                            Drama         57.0    4.271930  \n",
       "750                        Comedy|War         97.0    4.268041  \n",
       "904                  Mystery|Thriller         84.0    4.261905  \n",
       "1221                      Crime|Drama        129.0    4.259690  \n",
       "48516            Crime|Drama|Thriller        107.0    4.252336  \n",
       "1213                      Crime|Drama        126.0    4.250000  \n",
       "912                     Drama|Romance        100.0    4.240000  "
      ]
     },
     "execution_count": 10,
     "metadata": {},
     "output_type": "execute_result"
    }
   ],
   "source": [
    "filmes.query('total_votos >= 50').sort_values('nota_media', ascending=False).head(10)"
   ]
  },
  {
   "cell_type": "code",
   "execution_count": 11,
   "id": "1e995fa6",
   "metadata": {
    "ExecuteTime": {
     "end_time": "2022-05-23T23:17:59.054003Z",
     "start_time": "2022-05-23T23:17:59.024503Z"
    },
    "hidden": true,
    "scrolled": true
   },
   "outputs": [
    {
     "data": {
      "text/html": [
       "<div>\n",
       "<style scoped>\n",
       "    .dataframe tbody tr th:only-of-type {\n",
       "        vertical-align: middle;\n",
       "    }\n",
       "\n",
       "    .dataframe tbody tr th {\n",
       "        vertical-align: top;\n",
       "    }\n",
       "\n",
       "    .dataframe thead th {\n",
       "        text-align: right;\n",
       "    }\n",
       "</style>\n",
       "<table border=\"1\" class=\"dataframe\">\n",
       "  <thead>\n",
       "    <tr style=\"text-align: right;\">\n",
       "      <th></th>\n",
       "      <th>titulo</th>\n",
       "      <th>generos</th>\n",
       "      <th>total_votos</th>\n",
       "      <th>nota_media</th>\n",
       "    </tr>\n",
       "    <tr>\n",
       "      <th>filme_id</th>\n",
       "      <th></th>\n",
       "      <th></th>\n",
       "      <th></th>\n",
       "      <th></th>\n",
       "    </tr>\n",
       "  </thead>\n",
       "  <tbody>\n",
       "    <tr>\n",
       "      <th>318</th>\n",
       "      <td>Shawshank Redemption, The (1994)</td>\n",
       "      <td>Crime|Drama</td>\n",
       "      <td>317.0</td>\n",
       "      <td>4.429022</td>\n",
       "    </tr>\n",
       "    <tr>\n",
       "      <th>858</th>\n",
       "      <td>Godfather, The (1972)</td>\n",
       "      <td>Crime|Drama</td>\n",
       "      <td>192.0</td>\n",
       "      <td>4.289062</td>\n",
       "    </tr>\n",
       "    <tr>\n",
       "      <th>2959</th>\n",
       "      <td>Fight Club (1999)</td>\n",
       "      <td>Action|Crime|Drama|Thriller</td>\n",
       "      <td>218.0</td>\n",
       "      <td>4.272936</td>\n",
       "    </tr>\n",
       "    <tr>\n",
       "      <th>1276</th>\n",
       "      <td>Cool Hand Luke (1967)</td>\n",
       "      <td>Drama</td>\n",
       "      <td>57.0</td>\n",
       "      <td>4.271930</td>\n",
       "    </tr>\n",
       "    <tr>\n",
       "      <th>750</th>\n",
       "      <td>Dr. Strangelove or: How I Learned to Stop Worr...</td>\n",
       "      <td>Comedy|War</td>\n",
       "      <td>97.0</td>\n",
       "      <td>4.268041</td>\n",
       "    </tr>\n",
       "    <tr>\n",
       "      <th>904</th>\n",
       "      <td>Rear Window (1954)</td>\n",
       "      <td>Mystery|Thriller</td>\n",
       "      <td>84.0</td>\n",
       "      <td>4.261905</td>\n",
       "    </tr>\n",
       "    <tr>\n",
       "      <th>1221</th>\n",
       "      <td>Godfather: Part II, The (1974)</td>\n",
       "      <td>Crime|Drama</td>\n",
       "      <td>129.0</td>\n",
       "      <td>4.259690</td>\n",
       "    </tr>\n",
       "    <tr>\n",
       "      <th>48516</th>\n",
       "      <td>Departed, The (2006)</td>\n",
       "      <td>Crime|Drama|Thriller</td>\n",
       "      <td>107.0</td>\n",
       "      <td>4.252336</td>\n",
       "    </tr>\n",
       "    <tr>\n",
       "      <th>1213</th>\n",
       "      <td>Goodfellas (1990)</td>\n",
       "      <td>Crime|Drama</td>\n",
       "      <td>126.0</td>\n",
       "      <td>4.250000</td>\n",
       "    </tr>\n",
       "    <tr>\n",
       "      <th>912</th>\n",
       "      <td>Casablanca (1942)</td>\n",
       "      <td>Drama|Romance</td>\n",
       "      <td>100.0</td>\n",
       "      <td>4.240000</td>\n",
       "    </tr>\n",
       "  </tbody>\n",
       "</table>\n",
       "</div>"
      ],
      "text/plain": [
       "                                                     titulo  \\\n",
       "filme_id                                                      \n",
       "318                        Shawshank Redemption, The (1994)   \n",
       "858                                   Godfather, The (1972)   \n",
       "2959                                      Fight Club (1999)   \n",
       "1276                                  Cool Hand Luke (1967)   \n",
       "750       Dr. Strangelove or: How I Learned to Stop Worr...   \n",
       "904                                      Rear Window (1954)   \n",
       "1221                         Godfather: Part II, The (1974)   \n",
       "48516                                  Departed, The (2006)   \n",
       "1213                                      Goodfellas (1990)   \n",
       "912                                       Casablanca (1942)   \n",
       "\n",
       "                              generos  total_votos  nota_media  \n",
       "filme_id                                                        \n",
       "318                       Crime|Drama        317.0    4.429022  \n",
       "858                       Crime|Drama        192.0    4.289062  \n",
       "2959      Action|Crime|Drama|Thriller        218.0    4.272936  \n",
       "1276                            Drama         57.0    4.271930  \n",
       "750                        Comedy|War         97.0    4.268041  \n",
       "904                  Mystery|Thriller         84.0    4.261905  \n",
       "1221                      Crime|Drama        129.0    4.259690  \n",
       "48516            Crime|Drama|Thriller        107.0    4.252336  \n",
       "1213                      Crime|Drama        126.0    4.250000  \n",
       "912                     Drama|Romance        100.0    4.240000  "
      ]
     },
     "execution_count": 11,
     "metadata": {},
     "output_type": "execute_result"
    }
   ],
   "source": [
    "filmes_mais_50_votos = filmes.query('total_votos >= 50')\n",
    "filmes_mais_50_votos.sort_values('nota_media', ascending=False).head(10)"
   ]
  },
  {
   "cell_type": "markdown",
   "id": "61f3db37",
   "metadata": {
    "hidden": true
   },
   "source": [
    "Filtrando filmes com quantidade de avaliações maior que 50 temos filmes com uma certa quantidade de avaliações para não tendenciar pelo valor."
   ]
  },
  {
   "cell_type": "markdown",
   "id": "87d64fe6",
   "metadata": {
    "heading_collapsed": true
   },
   "source": [
    "## 2.1. Baseado em similaridade de gênero"
   ]
  },
  {
   "cell_type": "code",
   "execution_count": 12,
   "id": "4caa5dcd",
   "metadata": {
    "ExecuteTime": {
     "end_time": "2022-05-23T23:17:59.069503Z",
     "start_time": "2022-05-23T23:17:59.056503Z"
    },
    "hidden": true
   },
   "outputs": [
    {
     "data": {
      "text/html": [
       "<div>\n",
       "<style scoped>\n",
       "    .dataframe tbody tr th:only-of-type {\n",
       "        vertical-align: middle;\n",
       "    }\n",
       "\n",
       "    .dataframe tbody tr th {\n",
       "        vertical-align: top;\n",
       "    }\n",
       "\n",
       "    .dataframe thead th {\n",
       "        text-align: right;\n",
       "    }\n",
       "</style>\n",
       "<table border=\"1\" class=\"dataframe\">\n",
       "  <thead>\n",
       "    <tr style=\"text-align: right;\">\n",
       "      <th></th>\n",
       "      <th>titulo</th>\n",
       "      <th>generos</th>\n",
       "      <th>total_votos</th>\n",
       "      <th>nota_media</th>\n",
       "    </tr>\n",
       "    <tr>\n",
       "      <th>filme_id</th>\n",
       "      <th></th>\n",
       "      <th></th>\n",
       "      <th></th>\n",
       "      <th></th>\n",
       "    </tr>\n",
       "  </thead>\n",
       "  <tbody>\n",
       "    <tr>\n",
       "      <th>2</th>\n",
       "      <td>Jumanji (1995)</td>\n",
       "      <td>Adventure|Children|Fantasy</td>\n",
       "      <td>110.0</td>\n",
       "      <td>3.431818</td>\n",
       "    </tr>\n",
       "    <tr>\n",
       "      <th>22</th>\n",
       "      <td>Copycat (1995)</td>\n",
       "      <td>Crime|Drama|Horror|Mystery|Thriller</td>\n",
       "      <td>36.0</td>\n",
       "      <td>3.222222</td>\n",
       "    </tr>\n",
       "    <tr>\n",
       "      <th>20</th>\n",
       "      <td>Money Train (1995)</td>\n",
       "      <td>Action|Comedy|Crime|Drama|Thriller</td>\n",
       "      <td>15.0</td>\n",
       "      <td>2.500000</td>\n",
       "    </tr>\n",
       "    <tr>\n",
       "      <th>11</th>\n",
       "      <td>American President, The (1995)</td>\n",
       "      <td>Comedy|Drama|Romance</td>\n",
       "      <td>70.0</td>\n",
       "      <td>3.671429</td>\n",
       "    </tr>\n",
       "    <tr>\n",
       "      <th>12</th>\n",
       "      <td>Dracula: Dead and Loving It (1995)</td>\n",
       "      <td>Comedy|Horror</td>\n",
       "      <td>19.0</td>\n",
       "      <td>2.421053</td>\n",
       "    </tr>\n",
       "    <tr>\n",
       "      <th>8</th>\n",
       "      <td>Tom and Huck (1995)</td>\n",
       "      <td>Adventure|Children</td>\n",
       "      <td>8.0</td>\n",
       "      <td>2.875000</td>\n",
       "    </tr>\n",
       "    <tr>\n",
       "      <th>3</th>\n",
       "      <td>Grumpier Old Men (1995)</td>\n",
       "      <td>Comedy|Romance</td>\n",
       "      <td>52.0</td>\n",
       "      <td>3.259615</td>\n",
       "    </tr>\n",
       "  </tbody>\n",
       "</table>\n",
       "</div>"
      ],
      "text/plain": [
       "                                      titulo  \\\n",
       "filme_id                                       \n",
       "2                             Jumanji (1995)   \n",
       "22                            Copycat (1995)   \n",
       "20                        Money Train (1995)   \n",
       "11            American President, The (1995)   \n",
       "12        Dracula: Dead and Loving It (1995)   \n",
       "8                        Tom and Huck (1995)   \n",
       "3                    Grumpier Old Men (1995)   \n",
       "\n",
       "                                      generos  total_votos  nota_media  \n",
       "filme_id                                                                \n",
       "2                  Adventure|Children|Fantasy        110.0    3.431818  \n",
       "22        Crime|Drama|Horror|Mystery|Thriller         36.0    3.222222  \n",
       "20         Action|Comedy|Crime|Drama|Thriller         15.0    2.500000  \n",
       "11                       Comedy|Drama|Romance         70.0    3.671429  \n",
       "12                              Comedy|Horror         19.0    2.421053  \n",
       "8                          Adventure|Children          8.0    2.875000  \n",
       "3                              Comedy|Romance         52.0    3.259615  "
      ]
     },
     "execution_count": 12,
     "metadata": {},
     "output_type": "execute_result"
    }
   ],
   "source": [
    "assistido = [1, 21, 19, 10, 11, 7 , 2]\n",
    "filmes.iloc[ assistido ]"
   ]
  },
  {
   "cell_type": "code",
   "execution_count": 13,
   "id": "26fa8a62",
   "metadata": {
    "ExecuteTime": {
     "end_time": "2022-05-23T23:17:59.100500Z",
     "start_time": "2022-05-23T23:17:59.072504Z"
    },
    "hidden": true
   },
   "outputs": [
    {
     "data": {
      "text/html": [
       "<div>\n",
       "<style scoped>\n",
       "    .dataframe tbody tr th:only-of-type {\n",
       "        vertical-align: middle;\n",
       "    }\n",
       "\n",
       "    .dataframe tbody tr th {\n",
       "        vertical-align: top;\n",
       "    }\n",
       "\n",
       "    .dataframe thead th {\n",
       "        text-align: right;\n",
       "    }\n",
       "</style>\n",
       "<table border=\"1\" class=\"dataframe\">\n",
       "  <thead>\n",
       "    <tr style=\"text-align: right;\">\n",
       "      <th></th>\n",
       "      <th>titulo</th>\n",
       "      <th>generos</th>\n",
       "      <th>total_votos</th>\n",
       "      <th>nota_media</th>\n",
       "    </tr>\n",
       "    <tr>\n",
       "      <th>filme_id</th>\n",
       "      <th></th>\n",
       "      <th></th>\n",
       "      <th></th>\n",
       "      <th></th>\n",
       "    </tr>\n",
       "  </thead>\n",
       "  <tbody>\n",
       "    <tr>\n",
       "      <th>4896</th>\n",
       "      <td>Harry Potter and the Sorcerer's Stone (a.k.a. ...</td>\n",
       "      <td>Adventure|Children|Fantasy</td>\n",
       "      <td>107.0</td>\n",
       "      <td>3.761682</td>\n",
       "    </tr>\n",
       "    <tr>\n",
       "      <th>41566</th>\n",
       "      <td>Chronicles of Narnia: The Lion, the Witch and ...</td>\n",
       "      <td>Adventure|Children|Fantasy</td>\n",
       "      <td>62.0</td>\n",
       "      <td>3.443548</td>\n",
       "    </tr>\n",
       "  </tbody>\n",
       "</table>\n",
       "</div>"
      ],
      "text/plain": [
       "                                                     titulo  \\\n",
       "filme_id                                                      \n",
       "4896      Harry Potter and the Sorcerer's Stone (a.k.a. ...   \n",
       "41566     Chronicles of Narnia: The Lion, the Witch and ...   \n",
       "\n",
       "                             generos  total_votos  nota_media  \n",
       "filme_id                                                       \n",
       "4896      Adventure|Children|Fantasy        107.0    3.761682  \n",
       "41566     Adventure|Children|Fantasy         62.0    3.443548  "
      ]
     },
     "execution_count": 13,
     "metadata": {},
     "output_type": "execute_result"
    }
   ],
   "source": [
    "aventura_infantil_fantasia = filmes_mais_50_votos.query( 'generos==\"Adventure|Children|Fantasy\"')\n",
    "aventura_infantil_fantasia.drop(assistido, errors='ignore').sort_values('nota_media', ascending=False).head(10)\n"
   ]
  },
  {
   "cell_type": "markdown",
   "id": "6a8715ca",
   "metadata": {},
   "source": [
    "# 3.0. Collaborative filtering x Content based filtering"
   ]
  },
  {
   "cell_type": "code",
   "execution_count": null,
   "id": "74078ddf",
   "metadata": {},
   "outputs": [],
   "source": []
  },
  {
   "cell_type": "markdown",
   "id": "6f520237",
   "metadata": {},
   "source": [
    "## 3.1. Similaridade de usuários"
   ]
  },
  {
   "cell_type": "markdown",
   "id": "729dd73b",
   "metadata": {},
   "source": [
    "### Procurar usuários \"similares\"\n",
    "\n",
    "- joão deu nota 4 no filme toy story\n",
    "- maria deu nota 5 no filme toy story\n",
    "- paulo deu nota 3 no filme toy story\n",
    "- joana deu nota 3.5 no filme toy story\n",
    "\n",
    "x-y ==> distância"
   ]
  },
  {
   "cell_type": "code",
   "execution_count": 14,
   "id": "65e6fbfd",
   "metadata": {
    "ExecuteTime": {
     "end_time": "2022-05-23T23:17:59.302002Z",
     "start_time": "2022-05-23T23:17:59.102003Z"
    }
   },
   "outputs": [
    {
     "data": {
      "text/plain": [
       "[<matplotlib.lines.Line2D at 0x2000d353940>]"
      ]
     },
     "execution_count": 14,
     "metadata": {},
     "output_type": "execute_result"
    },
    {
     "data": {
      "image/png": "[encoded data removed]",
      "text/plain": [
       "<Figure size 432x288 with 1 Axes>"
      ]
     },
     "metadata": {
      "needs_background": "light"
     },
     "output_type": "display_data"
    }
   ],
   "source": [
    "plt.plot(4, 4.5, \"go\")\n",
    "plt.plot(5, 5, \"yo\")\n",
    "plt.legend([\"João\", \"Maria\"])\n",
    "plt.title(\"Calcular a distância entre dois usuários\")\n",
    "\n",
    "plt.plot([4, 5], [4.5, 4.5], color=\"b\", linestyle=\"-\")\n",
    "plt.plot([4, 5], [4.5, 5], color=\"b\", linestyle=\"-\")\n",
    "plt.plot([5, 5], [4.5, 5], color=\"b\", linestyle=\"-\")"
   ]
  },
  {
   "cell_type": "code",
   "execution_count": 15,
   "id": "72af45c9",
   "metadata": {
    "ExecuteTime": {
     "end_time": "2022-05-23T23:17:59.317502Z",
     "start_time": "2022-05-23T23:17:59.304505Z"
    }
   },
   "outputs": [
    {
     "data": {
      "text/plain": [
       "array([-1. , -0.5])"
      ]
     },
     "execution_count": 15,
     "metadata": {},
     "output_type": "execute_result"
    }
   ],
   "source": [
    "joao = np.array([4, 4.5])\n",
    "maria = np.array([5, 5])\n",
    "\n",
    "joao - maria"
   ]
  },
  {
   "cell_type": "code",
   "execution_count": 16,
   "id": "21aed7c3",
   "metadata": {
    "ExecuteTime": {
     "end_time": "2022-05-23T23:17:59.333002Z",
     "start_time": "2022-05-23T23:17:59.319002Z"
    }
   },
   "outputs": [
    {
     "data": {
      "text/plain": [
       "1.118033988749895"
      ]
     },
     "execution_count": 16,
     "metadata": {},
     "output_type": "execute_result"
    }
   ],
   "source": [
    "def pitagoras(a,b):\n",
    "  (delta_x, delta_y) = a - b\n",
    "  return sqrt(delta_x * delta_x + delta_y * delta_y)\n",
    "\n",
    "pitagoras(joao, maria)"
   ]
  },
  {
   "cell_type": "code",
   "execution_count": 17,
   "id": "9078af1d",
   "metadata": {
    "ExecuteTime": {
     "end_time": "2022-05-23T23:17:59.348502Z",
     "start_time": "2022-05-23T23:17:59.335503Z"
    }
   },
   "outputs": [
    {
     "data": {
      "text/plain": [
       "1.118033988749895"
      ]
     },
     "execution_count": 17,
     "metadata": {},
     "output_type": "execute_result"
    }
   ],
   "source": [
    "def pitagoras(a,b):\n",
    "  return np.linalg.norm(a - b)\n",
    "\n",
    "pitagoras(joao, maria)"
   ]
  },
  {
   "cell_type": "code",
   "execution_count": 18,
   "id": "6373a0d4",
   "metadata": {
    "ExecuteTime": {
     "end_time": "2022-05-23T23:17:59.488003Z",
     "start_time": "2022-05-23T23:17:59.350002Z"
    },
    "collapsed": true
   },
   "outputs": [
    {
     "data": {
      "text/plain": [
       "Text(0.5, 1.0, 'Calcular a distância entre usuários')"
      ]
     },
     "execution_count": 18,
     "metadata": {},
     "output_type": "execute_result"
    },
    {
     "data": {
      "image/png": "[encoded data removed]",
      "text/plain": [
       "<Figure size 432x288 with 1 Axes>"
      ]
     },
     "metadata": {
      "needs_background": "light"
     },
     "output_type": "display_data"
    }
   ],
   "source": [
    "plt.plot(4, 4.5, \"go\")\n",
    "plt.plot(5, 5, \"yo\")\n",
    "plt.plot(3.5, 4.5, \"bo\")\n",
    "plt.legend([\"João\", \"Maria\", \"Joaquina\"])\n",
    "plt.title(\"Calcular a distância entre usuários\")"
   ]
  },
  {
   "cell_type": "code",
   "execution_count": 19,
   "id": "7cd3340e",
   "metadata": {
    "ExecuteTime": {
     "end_time": "2022-05-23T23:17:59.503503Z",
     "start_time": "2022-05-23T23:17:59.490503Z"
    }
   },
   "outputs": [
    {
     "name": "stdout",
     "output_type": "stream",
     "text": [
      "1.118033988749895\n",
      "0.5\n"
     ]
    }
   ],
   "source": [
    "joaquina = np.array([3.5, 4.5])\n",
    "\n",
    "print(pitagoras(joao, maria))\n",
    "print(pitagoras(joao, joaquina))"
   ]
  },
  {
   "cell_type": "markdown",
   "id": "9f4714b7",
   "metadata": {},
   "source": [
    "### Implementando códigos para encontrar as distâncias"
   ]
  },
  {
   "cell_type": "code",
   "execution_count": 20,
   "id": "fa5d643c",
   "metadata": {
    "ExecuteTime": {
     "end_time": "2022-05-23T23:17:59.519000Z",
     "start_time": "2022-05-23T23:17:59.506503Z"
    }
   },
   "outputs": [],
   "source": [
    "def distancia_de_vetores(a,b):\n",
    "  return np.linalg.norm(a - b)"
   ]
  },
  {
   "cell_type": "code",
   "execution_count": 21,
   "id": "92e707d9",
   "metadata": {
    "ExecuteTime": {
     "end_time": "2022-05-23T23:17:59.534500Z",
     "start_time": "2022-05-23T23:17:59.520503Z"
    }
   },
   "outputs": [],
   "source": [
    "def notas_do_usuario(usuario):\n",
    "  notas_do_usuario = notas.query(f'usuario_id=={usuario}')\n",
    "  notas_do_usuario = notas_do_usuario[['filme_id', 'nota']].set_index('filme_id')\n",
    "  return notas_do_usuario"
   ]
  },
  {
   "cell_type": "code",
   "execution_count": 22,
   "id": "537cec9c",
   "metadata": {
    "ExecuteTime": {
     "end_time": "2022-05-23T23:17:59.550001Z",
     "start_time": "2022-05-23T23:17:59.535502Z"
    }
   },
   "outputs": [],
   "source": [
    "usuario1 = notas_do_usuario(1)\n",
    "usuario4 = notas_do_usuario(4)"
   ]
  },
  {
   "cell_type": "code",
   "execution_count": 23,
   "id": "7c2cad62",
   "metadata": {
    "ExecuteTime": {
     "end_time": "2022-05-23T23:17:59.565500Z",
     "start_time": "2022-05-23T23:17:59.551002Z"
    }
   },
   "outputs": [
    {
     "data": {
      "text/html": [
       "<div>\n",
       "<style scoped>\n",
       "    .dataframe tbody tr th:only-of-type {\n",
       "        vertical-align: middle;\n",
       "    }\n",
       "\n",
       "    .dataframe tbody tr th {\n",
       "        vertical-align: top;\n",
       "    }\n",
       "\n",
       "    .dataframe thead th {\n",
       "        text-align: right;\n",
       "    }\n",
       "</style>\n",
       "<table border=\"1\" class=\"dataframe\">\n",
       "  <thead>\n",
       "    <tr style=\"text-align: right;\">\n",
       "      <th></th>\n",
       "      <th>nota</th>\n",
       "    </tr>\n",
       "    <tr>\n",
       "      <th>filme_id</th>\n",
       "      <th></th>\n",
       "    </tr>\n",
       "  </thead>\n",
       "  <tbody>\n",
       "    <tr>\n",
       "      <th>1</th>\n",
       "      <td>4.0</td>\n",
       "    </tr>\n",
       "    <tr>\n",
       "      <th>3</th>\n",
       "      <td>4.0</td>\n",
       "    </tr>\n",
       "    <tr>\n",
       "      <th>6</th>\n",
       "      <td>4.0</td>\n",
       "    </tr>\n",
       "    <tr>\n",
       "      <th>47</th>\n",
       "      <td>5.0</td>\n",
       "    </tr>\n",
       "    <tr>\n",
       "      <th>50</th>\n",
       "      <td>5.0</td>\n",
       "    </tr>\n",
       "  </tbody>\n",
       "</table>\n",
       "</div>"
      ],
      "text/plain": [
       "          nota\n",
       "filme_id      \n",
       "1          4.0\n",
       "3          4.0\n",
       "6          4.0\n",
       "47         5.0\n",
       "50         5.0"
      ]
     },
     "execution_count": 23,
     "metadata": {},
     "output_type": "execute_result"
    }
   ],
   "source": [
    "usuario1.head()"
   ]
  },
  {
   "cell_type": "code",
   "execution_count": 24,
   "id": "2e0cd629",
   "metadata": {
    "ExecuteTime": {
     "end_time": "2022-05-23T23:17:59.581001Z",
     "start_time": "2022-05-23T23:17:59.566503Z"
    }
   },
   "outputs": [
    {
     "data": {
      "text/html": [
       "<div>\n",
       "<style scoped>\n",
       "    .dataframe tbody tr th:only-of-type {\n",
       "        vertical-align: middle;\n",
       "    }\n",
       "\n",
       "    .dataframe tbody tr th {\n",
       "        vertical-align: top;\n",
       "    }\n",
       "\n",
       "    .dataframe thead th {\n",
       "        text-align: right;\n",
       "    }\n",
       "</style>\n",
       "<table border=\"1\" class=\"dataframe\">\n",
       "  <thead>\n",
       "    <tr style=\"text-align: right;\">\n",
       "      <th></th>\n",
       "      <th>nota</th>\n",
       "    </tr>\n",
       "    <tr>\n",
       "      <th>filme_id</th>\n",
       "      <th></th>\n",
       "    </tr>\n",
       "  </thead>\n",
       "  <tbody>\n",
       "    <tr>\n",
       "      <th>21</th>\n",
       "      <td>3.0</td>\n",
       "    </tr>\n",
       "    <tr>\n",
       "      <th>32</th>\n",
       "      <td>2.0</td>\n",
       "    </tr>\n",
       "    <tr>\n",
       "      <th>45</th>\n",
       "      <td>3.0</td>\n",
       "    </tr>\n",
       "    <tr>\n",
       "      <th>47</th>\n",
       "      <td>2.0</td>\n",
       "    </tr>\n",
       "    <tr>\n",
       "      <th>52</th>\n",
       "      <td>3.0</td>\n",
       "    </tr>\n",
       "  </tbody>\n",
       "</table>\n",
       "</div>"
      ],
      "text/plain": [
       "          nota\n",
       "filme_id      \n",
       "21         3.0\n",
       "32         2.0\n",
       "45         3.0\n",
       "47         2.0\n",
       "52         3.0"
      ]
     },
     "execution_count": 24,
     "metadata": {},
     "output_type": "execute_result"
    }
   ],
   "source": [
    "usuario4.head()"
   ]
  },
  {
   "cell_type": "code",
   "execution_count": 25,
   "id": "efc48aba",
   "metadata": {
    "ExecuteTime": {
     "end_time": "2022-05-23T23:17:59.596503Z",
     "start_time": "2022-05-23T23:17:59.582503Z"
    }
   },
   "outputs": [
    {
     "data": {
      "text/plain": [
       "11.135528725660043"
      ]
     },
     "execution_count": 25,
     "metadata": {},
     "output_type": "execute_result"
    }
   ],
   "source": [
    "diferencas = usuario1.join(usuario4, lsuffix=\"_esquerda\", rsuffix=\"_direita\").dropna()\n",
    "distancia_de_vetores(diferencas['nota_esquerda'], diferencas['nota_direita'])"
   ]
  },
  {
   "cell_type": "code",
   "execution_count": 26,
   "id": "5c261fbb",
   "metadata": {
    "ExecuteTime": {
     "end_time": "2022-05-23T23:17:59.612001Z",
     "start_time": "2022-05-23T23:17:59.598502Z"
    }
   },
   "outputs": [],
   "source": [
    "def distancia_usuarios(usuario_id1, usuario_id2):\n",
    "    notas1 = notas_do_usuario(usuario_id1)\n",
    "    notas2 = notas_do_usuario(usuario_id2)\n",
    "    diferencas = notas1.join(notas2, lsuffix=\"_esquerda\", rsuffix=\"_direita\").dropna()\n",
    "    distancia = distancia_de_vetores(diferencas['nota_esquerda'], diferencas['nota_direita'])\n",
    "    return [usuario_id1, usuario_id2, distancia]"
   ]
  },
  {
   "cell_type": "code",
   "execution_count": 27,
   "id": "e1ad5982",
   "metadata": {
    "ExecuteTime": {
     "end_time": "2022-05-23T23:17:59.643000Z",
     "start_time": "2022-05-23T23:17:59.616002Z"
    }
   },
   "outputs": [
    {
     "data": {
      "text/plain": [
       "[1, 4, 11.135528725660043]"
      ]
     },
     "execution_count": 27,
     "metadata": {},
     "output_type": "execute_result"
    }
   ],
   "source": [
    "distancia_usuarios(1,4)"
   ]
  },
  {
   "cell_type": "code",
   "execution_count": 28,
   "id": "1e615eef",
   "metadata": {
    "ExecuteTime": {
     "end_time": "2022-05-23T23:17:59.658500Z",
     "start_time": "2022-05-23T23:17:59.645002Z"
    }
   },
   "outputs": [
    {
     "name": "stdout",
     "output_type": "stream",
     "text": [
      "Quantidade de Usuários 610 \n"
     ]
    }
   ],
   "source": [
    "quantidade_usuarios = len(notas['usuario_id'].unique())\n",
    "print(f'Quantidade de Usuários {quantidade_usuarios} ')"
   ]
  },
  {
   "cell_type": "code",
   "execution_count": 36,
   "id": "ddf2fa34",
   "metadata": {
    "ExecuteTime": {
     "end_time": "2022-05-23T23:38:15.205659Z",
     "start_time": "2022-05-23T23:38:15.195129Z"
    }
   },
   "outputs": [
    {
     "data": {
      "text/html": [
       "<div>\n",
       "<style scoped>\n",
       "    .dataframe tbody tr th:only-of-type {\n",
       "        vertical-align: middle;\n",
       "    }\n",
       "\n",
       "    .dataframe tbody tr th {\n",
       "        vertical-align: top;\n",
       "    }\n",
       "\n",
       "    .dataframe thead th {\n",
       "        text-align: right;\n",
       "    }\n",
       "</style>\n",
       "<table border=\"1\" class=\"dataframe\">\n",
       "  <thead>\n",
       "    <tr style=\"text-align: right;\">\n",
       "      <th></th>\n",
       "      <th>usuario_id</th>\n",
       "      <th>filme_id</th>\n",
       "      <th>nota</th>\n",
       "      <th>momento</th>\n",
       "    </tr>\n",
       "  </thead>\n",
       "  <tbody>\n",
       "    <tr>\n",
       "      <th>0</th>\n",
       "      <td>1</td>\n",
       "      <td>1</td>\n",
       "      <td>4.0</td>\n",
       "      <td>964982703</td>\n",
       "    </tr>\n",
       "    <tr>\n",
       "      <th>1</th>\n",
       "      <td>1</td>\n",
       "      <td>3</td>\n",
       "      <td>4.0</td>\n",
       "      <td>964981247</td>\n",
       "    </tr>\n",
       "    <tr>\n",
       "      <th>2</th>\n",
       "      <td>1</td>\n",
       "      <td>6</td>\n",
       "      <td>4.0</td>\n",
       "      <td>964982224</td>\n",
       "    </tr>\n",
       "    <tr>\n",
       "      <th>3</th>\n",
       "      <td>1</td>\n",
       "      <td>47</td>\n",
       "      <td>5.0</td>\n",
       "      <td>964983815</td>\n",
       "    </tr>\n",
       "    <tr>\n",
       "      <th>4</th>\n",
       "      <td>1</td>\n",
       "      <td>50</td>\n",
       "      <td>5.0</td>\n",
       "      <td>964982931</td>\n",
       "    </tr>\n",
       "  </tbody>\n",
       "</table>\n",
       "</div>"
      ],
      "text/plain": [
       "   usuario_id  filme_id  nota    momento\n",
       "0           1         1   4.0  964982703\n",
       "1           1         3   4.0  964981247\n",
       "2           1         6   4.0  964982224\n",
       "3           1        47   5.0  964983815\n",
       "4           1        50   5.0  964982931"
      ]
     },
     "execution_count": 36,
     "metadata": {},
     "output_type": "execute_result"
    }
   ],
   "source": [
    "notas.head()"
   ]
  },
  {
   "cell_type": "code",
   "execution_count": 30,
   "id": "9228cc73",
   "metadata": {
    "ExecuteTime": {
     "end_time": "2022-05-23T23:17:59.689502Z",
     "start_time": "2022-05-23T23:17:59.676003Z"
    }
   },
   "outputs": [],
   "source": [
    "# def distancia_todos(voce_id):\n",
    "#     distancias = []\n",
    "#     for usuario_id in notas['usuario_id'].unique():\n",
    "#         informacoes = distancia_usuarios(voce_id, usuario_id)\n",
    "#         distancias.append(informacoes)\n",
    "#     return distancias\n",
    "\n",
    "# distancia_de_todos(1)[:5]"
   ]
  },
  {
   "cell_type": "code",
   "execution_count": null,
   "id": "de0fe336",
   "metadata": {},
   "outputs": [],
   "source": []
  },
  {
   "cell_type": "code",
   "execution_count": 33,
   "id": "5680be2f",
   "metadata": {
    "ExecuteTime": {
     "end_time": "2022-05-23T23:18:21.356763Z",
     "start_time": "2022-05-23T23:18:21.341786Z"
    }
   },
   "outputs": [],
   "source": [
    "def distancia_todos(voce_id):\n",
    "    todos_os_usuarios = notas['usuario_id'].unique()\n",
    "    distancias = [distancia_usuarios(voce_id, usuario_id) for usuario_id in todos_os_usuarios]\n",
    "    distancias = pd.DataFrame(distancias, columns = [\"voce\", \"outra_pessoa\", \"distancia\"])\n",
    "    return distancias"
   ]
  },
  {
   "cell_type": "code",
   "execution_count": 34,
   "id": "2273662c",
   "metadata": {
    "ExecuteTime": {
     "end_time": "2022-05-23T23:18:24.751290Z",
     "start_time": "2022-05-23T23:18:21.671260Z"
    }
   },
   "outputs": [],
   "source": [
    "usuario_1 = distancia_todos(1)\n"
   ]
  },
  {
   "cell_type": "code",
   "execution_count": 35,
   "id": "7ee96219",
   "metadata": {
    "ExecuteTime": {
     "end_time": "2022-05-23T23:18:33.400260Z",
     "start_time": "2022-05-23T23:18:33.378761Z"
    }
   },
   "outputs": [
    {
     "data": {
      "text/html": [
       "<div>\n",
       "<style scoped>\n",
       "    .dataframe tbody tr th:only-of-type {\n",
       "        vertical-align: middle;\n",
       "    }\n",
       "\n",
       "    .dataframe tbody tr th {\n",
       "        vertical-align: top;\n",
       "    }\n",
       "\n",
       "    .dataframe thead th {\n",
       "        text-align: right;\n",
       "    }\n",
       "</style>\n",
       "<table border=\"1\" class=\"dataframe\">\n",
       "  <thead>\n",
       "    <tr style=\"text-align: right;\">\n",
       "      <th></th>\n",
       "      <th>voce</th>\n",
       "      <th>outra_pessoa</th>\n",
       "      <th>distancia</th>\n",
       "    </tr>\n",
       "  </thead>\n",
       "  <tbody>\n",
       "    <tr>\n",
       "      <th>67</th>\n",
       "      <td>1</td>\n",
       "      <td>68</td>\n",
       "      <td>21.558061</td>\n",
       "    </tr>\n",
       "    <tr>\n",
       "      <th>598</th>\n",
       "      <td>1</td>\n",
       "      <td>599</td>\n",
       "      <td>19.665960</td>\n",
       "    </tr>\n",
       "    <tr>\n",
       "      <th>216</th>\n",
       "      <td>1</td>\n",
       "      <td>217</td>\n",
       "      <td>19.646883</td>\n",
       "    </tr>\n",
       "    <tr>\n",
       "      <th>159</th>\n",
       "      <td>1</td>\n",
       "      <td>160</td>\n",
       "      <td>18.794946</td>\n",
       "    </tr>\n",
       "    <tr>\n",
       "      <th>473</th>\n",
       "      <td>1</td>\n",
       "      <td>474</td>\n",
       "      <td>18.594354</td>\n",
       "    </tr>\n",
       "  </tbody>\n",
       "</table>\n",
       "</div>"
      ],
      "text/plain": [
       "     voce  outra_pessoa  distancia\n",
       "67      1            68  21.558061\n",
       "598     1           599  19.665960\n",
       "216     1           217  19.646883\n",
       "159     1           160  18.794946\n",
       "473     1           474  18.594354"
      ]
     },
     "execution_count": 35,
     "metadata": {},
     "output_type": "execute_result"
    }
   ],
   "source": [
    "usuario_1.sort_values('distancia', ascending=False).head()"
   ]
  },
  {
   "cell_type": "markdown",
   "id": "0f0f9561",
   "metadata": {
    "ExecuteTime": {
     "end_time": "2022-05-23T23:43:39.531589Z",
     "start_time": "2022-05-23T23:43:39.521063Z"
    }
   },
   "source": [
    "### Usuários sem filmes em comum são colocados bem distante um do outro"
   ]
  },
  {
   "cell_type": "code",
   "execution_count": 38,
   "id": "2839021b",
   "metadata": {
    "ExecuteTime": {
     "end_time": "2022-05-23T23:46:26.066242Z",
     "start_time": "2022-05-23T23:46:26.048217Z"
    }
   },
   "outputs": [],
   "source": [
    "def distancia_de_usuarios( usuario_id1, usuario_id2, minimo = 5 ):\n",
    "    notas1 = notas_do_usuario( usuario_id1 )\n",
    "    notas2 = notas_do_usuario( usuario_id2 )\n",
    "    diferencas = notas1.join( notas2, lsuffix=\"_esquerda\", rsuffix=\"_direita\" ).dropna()\n",
    "\n",
    "    if( len( diferencas ) < minimo ):\n",
    "        return [usuario_id1, usuario_id2, 100000]\n",
    "  \n",
    "    distancia =  distancia_de_vetores( diferencas['nota_esquerda'], diferencas['nota_direita'] )\n",
    "    return [usuario_id1, usuario_id2, distancia]"
   ]
  },
  {
   "cell_type": "code",
   "execution_count": 40,
   "id": "eebc1923",
   "metadata": {
    "ExecuteTime": {
     "end_time": "2022-05-23T23:46:48.820714Z",
     "start_time": "2022-05-23T23:46:45.760180Z"
    }
   },
   "outputs": [
    {
     "data": {
      "text/html": [
       "<div>\n",
       "<style scoped>\n",
       "    .dataframe tbody tr th:only-of-type {\n",
       "        vertical-align: middle;\n",
       "    }\n",
       "\n",
       "    .dataframe tbody tr th {\n",
       "        vertical-align: top;\n",
       "    }\n",
       "\n",
       "    .dataframe thead th {\n",
       "        text-align: right;\n",
       "    }\n",
       "</style>\n",
       "<table border=\"1\" class=\"dataframe\">\n",
       "  <thead>\n",
       "    <tr style=\"text-align: right;\">\n",
       "      <th></th>\n",
       "      <th>voce</th>\n",
       "      <th>outra_pessoa</th>\n",
       "      <th>distancia</th>\n",
       "    </tr>\n",
       "  </thead>\n",
       "  <tbody>\n",
       "    <tr>\n",
       "      <th>0</th>\n",
       "      <td>1</td>\n",
       "      <td>1</td>\n",
       "      <td>0.000000</td>\n",
       "    </tr>\n",
       "    <tr>\n",
       "      <th>1</th>\n",
       "      <td>1</td>\n",
       "      <td>2</td>\n",
       "      <td>1.414214</td>\n",
       "    </tr>\n",
       "    <tr>\n",
       "      <th>2</th>\n",
       "      <td>1</td>\n",
       "      <td>3</td>\n",
       "      <td>8.200610</td>\n",
       "    </tr>\n",
       "    <tr>\n",
       "      <th>3</th>\n",
       "      <td>1</td>\n",
       "      <td>4</td>\n",
       "      <td>11.135529</td>\n",
       "    </tr>\n",
       "    <tr>\n",
       "      <th>4</th>\n",
       "      <td>1</td>\n",
       "      <td>5</td>\n",
       "      <td>3.741657</td>\n",
       "    </tr>\n",
       "  </tbody>\n",
       "</table>\n",
       "</div>"
      ],
      "text/plain": [
       "   voce  outra_pessoa  distancia\n",
       "0     1             1   0.000000\n",
       "1     1             2   1.414214\n",
       "2     1             3   8.200610\n",
       "3     1             4  11.135529\n",
       "4     1             5   3.741657"
      ]
     },
     "execution_count": 40,
     "metadata": {},
     "output_type": "execute_result"
    }
   ],
   "source": [
    "todos_para_1 = distancia_todos(1)\n",
    "todos_para_1.head()"
   ]
  },
  {
   "cell_type": "code",
   "execution_count": 43,
   "id": "ad869c67",
   "metadata": {
    "ExecuteTime": {
     "end_time": "2022-05-23T23:47:22.708881Z",
     "start_time": "2022-05-23T23:47:22.690347Z"
    }
   },
   "outputs": [],
   "source": [
    "def mais_proximos_de( voce_id ):\n",
    "    distancias = distancia_todos( voce_id )\n",
    "    distancias = distancias.sort_values( \"distancia\" )\n",
    "    distancias = distancias.set_index( \"outra_pessoa\" ).drop(voce_id)\n",
    "    return distancias"
   ]
  },
  {
   "cell_type": "code",
   "execution_count": 44,
   "id": "250bef88",
   "metadata": {
    "ExecuteTime": {
     "end_time": "2022-05-23T23:47:26.148911Z",
     "start_time": "2022-05-23T23:47:23.095854Z"
    }
   },
   "outputs": [
    {
     "data": {
      "text/html": [
       "<div>\n",
       "<style scoped>\n",
       "    .dataframe tbody tr th:only-of-type {\n",
       "        vertical-align: middle;\n",
       "    }\n",
       "\n",
       "    .dataframe tbody tr th {\n",
       "        vertical-align: top;\n",
       "    }\n",
       "\n",
       "    .dataframe thead th {\n",
       "        text-align: right;\n",
       "    }\n",
       "</style>\n",
       "<table border=\"1\" class=\"dataframe\">\n",
       "  <thead>\n",
       "    <tr style=\"text-align: right;\">\n",
       "      <th></th>\n",
       "      <th>voce</th>\n",
       "      <th>distancia</th>\n",
       "    </tr>\n",
       "    <tr>\n",
       "      <th>outra_pessoa</th>\n",
       "      <th></th>\n",
       "      <th></th>\n",
       "    </tr>\n",
       "  </thead>\n",
       "  <tbody>\n",
       "    <tr>\n",
       "      <th>578</th>\n",
       "      <td>1</td>\n",
       "      <td>0.0</td>\n",
       "    </tr>\n",
       "    <tr>\n",
       "      <th>77</th>\n",
       "      <td>1</td>\n",
       "      <td>0.0</td>\n",
       "    </tr>\n",
       "    <tr>\n",
       "      <th>85</th>\n",
       "      <td>1</td>\n",
       "      <td>0.0</td>\n",
       "    </tr>\n",
       "    <tr>\n",
       "      <th>175</th>\n",
       "      <td>1</td>\n",
       "      <td>0.0</td>\n",
       "    </tr>\n",
       "    <tr>\n",
       "      <th>556</th>\n",
       "      <td>1</td>\n",
       "      <td>0.0</td>\n",
       "    </tr>\n",
       "  </tbody>\n",
       "</table>\n",
       "</div>"
      ],
      "text/plain": [
       "              voce  distancia\n",
       "outra_pessoa                 \n",
       "578              1        0.0\n",
       "77               1        0.0\n",
       "85               1        0.0\n",
       "175              1        0.0\n",
       "556              1        0.0"
      ]
     },
     "execution_count": 44,
     "metadata": {},
     "output_type": "execute_result"
    }
   ],
   "source": [
    "mais_proximos_1 = mais_proximos_de(1)\n",
    "mais_proximos_1.head()"
   ]
  },
  {
   "cell_type": "markdown",
   "id": "5bf2c7b2",
   "metadata": {},
   "source": [
    "### Definindo quantidade de usuários para melhor performance"
   ]
  },
  {
   "cell_type": "code",
   "execution_count": 45,
   "id": "19086e4b",
   "metadata": {
    "ExecuteTime": {
     "end_time": "2022-05-24T00:01:17.537633Z",
     "start_time": "2022-05-24T00:01:17.533139Z"
    }
   },
   "outputs": [],
   "source": [
    "def mais_proximos_de(voce_id, n = None):\n",
    "    distancias = distancia_todos(voce_id, n = n)\n",
    "    distancias = distancias.sort_values(\"distancia\")\n",
    "    distancias = distancias.set_index(\"outra_pessoa\").drop(voce_id)\n",
    "    return distancias"
   ]
  },
  {
   "cell_type": "code",
   "execution_count": 50,
   "id": "d6648724",
   "metadata": {
    "ExecuteTime": {
     "end_time": "2022-05-24T00:05:18.584689Z",
     "start_time": "2022-05-24T00:05:18.577659Z"
    }
   },
   "outputs": [],
   "source": [
    "def distancia_todos(voce_id, n = None):\n",
    "    todos_os_usuarios = notas['usuario_id'].unique()\n",
    "    if n:\n",
    "        todos_os_usuarios = todos_os_usuarios[:n]\n",
    "    distancias = [distancia_de_usuarios(voce_id, usuario_id) for usuario_id in todos_os_usuarios]\n",
    "    distancias = pd.DataFrame(distancias, columns = [\"voce\", \"outra_pessoa\", \"distancia\"])\n",
    "    return distancias"
   ]
  },
  {
   "cell_type": "code",
   "execution_count": 52,
   "id": "640bfcb5",
   "metadata": {
    "ExecuteTime": {
     "end_time": "2022-05-24T00:05:45.608565Z",
     "start_time": "2022-05-24T00:05:45.384070Z"
    }
   },
   "outputs": [
    {
     "data": {
      "text/html": [
       "<div>\n",
       "<style scoped>\n",
       "    .dataframe tbody tr th:only-of-type {\n",
       "        vertical-align: middle;\n",
       "    }\n",
       "\n",
       "    .dataframe tbody tr th {\n",
       "        vertical-align: top;\n",
       "    }\n",
       "\n",
       "    .dataframe thead th {\n",
       "        text-align: right;\n",
       "    }\n",
       "</style>\n",
       "<table border=\"1\" class=\"dataframe\">\n",
       "  <thead>\n",
       "    <tr style=\"text-align: right;\">\n",
       "      <th></th>\n",
       "      <th>voce</th>\n",
       "      <th>distancia</th>\n",
       "    </tr>\n",
       "    <tr>\n",
       "      <th>outra_pessoa</th>\n",
       "      <th></th>\n",
       "      <th></th>\n",
       "    </tr>\n",
       "  </thead>\n",
       "  <tbody>\n",
       "    <tr>\n",
       "      <th>49</th>\n",
       "      <td>1</td>\n",
       "      <td>1.000000</td>\n",
       "    </tr>\n",
       "    <tr>\n",
       "      <th>9</th>\n",
       "      <td>1</td>\n",
       "      <td>1.000000</td>\n",
       "    </tr>\n",
       "    <tr>\n",
       "      <th>13</th>\n",
       "      <td>1</td>\n",
       "      <td>1.414214</td>\n",
       "    </tr>\n",
       "    <tr>\n",
       "      <th>25</th>\n",
       "      <td>1</td>\n",
       "      <td>1.414214</td>\n",
       "    </tr>\n",
       "    <tr>\n",
       "      <th>30</th>\n",
       "      <td>1</td>\n",
       "      <td>1.802776</td>\n",
       "    </tr>\n",
       "  </tbody>\n",
       "</table>\n",
       "</div>"
      ],
      "text/plain": [
       "              voce  distancia\n",
       "outra_pessoa                 \n",
       "49               1   1.000000\n",
       "9                1   1.000000\n",
       "13               1   1.414214\n",
       "25               1   1.414214\n",
       "30               1   1.802776"
      ]
     },
     "execution_count": 52,
     "metadata": {},
     "output_type": "execute_result"
    }
   ],
   "source": [
    "mais_proximos_de(1, n = 50).head()"
   ]
  },
  {
   "cell_type": "code",
   "execution_count": 54,
   "id": "9a2e6c47",
   "metadata": {
    "ExecuteTime": {
     "end_time": "2022-05-24T00:06:09.568493Z",
     "start_time": "2022-05-24T00:06:09.557522Z"
    }
   },
   "outputs": [],
   "source": [
    "def distancia_de_usuarios(usuario_id1, usuario_id2, minimo = 5):\n",
    "    notas1 = notas_do_usuario(usuario_id1)\n",
    "    notas2 = notas_do_usuario(usuario_id2)\n",
    "    diferencas = notas1.join(notas2, lsuffix=\"_esquerda\", rsuffix=\"_direita\").dropna()\n",
    "\n",
    "    if(len(diferencas) < minimo):\n",
    "        return None\n",
    "\n",
    "    distancia =  distancia_de_vetores(diferencas['nota_esquerda'], diferencas['nota_direita'])\n",
    "    return [usuario_id1, usuario_id2, distancia]"
   ]
  },
  {
   "cell_type": "code",
   "execution_count": 60,
   "id": "637f4a33",
   "metadata": {
    "ExecuteTime": {
     "end_time": "2022-05-24T00:07:00.294566Z",
     "start_time": "2022-05-24T00:07:00.290046Z"
    }
   },
   "outputs": [],
   "source": [
    "def distancia_todos(voce_id, numero_de_usuarios_a_analisar = None):\n",
    "    todos_os_usuarios = notas['usuario_id'].unique()\n",
    "    \n",
    "    if numero_de_usuarios_a_analisar:\n",
    "        todos_os_usuarios = todos_os_usuarios[:numero_de_usuarios_a_analisar]\n",
    "    \n",
    "    distancias = [distancia_de_usuarios(voce_id, usuario_id) for usuario_id in todos_os_usuarios]\n",
    "    distancias = list(filter(None, distancias))\n",
    "    distancias = pd.DataFrame(distancias, columns = [\"voce\", \"outra_pessoa\", \"distancia\"])\n",
    "    return distancias"
   ]
  },
  {
   "cell_type": "code",
   "execution_count": 61,
   "id": "fbd4f753",
   "metadata": {
    "ExecuteTime": {
     "end_time": "2022-05-24T00:07:00.744132Z",
     "start_time": "2022-05-24T00:07:00.740131Z"
    }
   },
   "outputs": [],
   "source": [
    "def mais_proximos_de(voce_id, numero_de_usuarios_a_analisar = None):\n",
    "    distancias = distancia_todos(voce_id, numero_de_usuarios_a_analisar = numero_de_usuarios_a_analisar)\n",
    "    distancias = distancias.sort_values(\"distancia\")\n",
    "    distancias = distancias.set_index(\"outra_pessoa\").drop(voce_id)\n",
    "    return distancias"
   ]
  },
  {
   "cell_type": "code",
   "execution_count": 62,
   "id": "8ca8c67d",
   "metadata": {
    "ExecuteTime": {
     "end_time": "2022-05-24T00:07:01.317092Z",
     "start_time": "2022-05-24T00:07:01.070616Z"
    }
   },
   "outputs": [
    {
     "data": {
      "text/html": [
       "<div>\n",
       "<style scoped>\n",
       "    .dataframe tbody tr th:only-of-type {\n",
       "        vertical-align: middle;\n",
       "    }\n",
       "\n",
       "    .dataframe tbody tr th {\n",
       "        vertical-align: top;\n",
       "    }\n",
       "\n",
       "    .dataframe thead th {\n",
       "        text-align: right;\n",
       "    }\n",
       "</style>\n",
       "<table border=\"1\" class=\"dataframe\">\n",
       "  <thead>\n",
       "    <tr style=\"text-align: right;\">\n",
       "      <th></th>\n",
       "      <th>voce</th>\n",
       "      <th>distancia</th>\n",
       "    </tr>\n",
       "    <tr>\n",
       "      <th>outra_pessoa</th>\n",
       "      <th></th>\n",
       "      <th></th>\n",
       "    </tr>\n",
       "  </thead>\n",
       "  <tbody>\n",
       "    <tr>\n",
       "      <th>49</th>\n",
       "      <td>1</td>\n",
       "      <td>1.000000</td>\n",
       "    </tr>\n",
       "    <tr>\n",
       "      <th>9</th>\n",
       "      <td>1</td>\n",
       "      <td>1.000000</td>\n",
       "    </tr>\n",
       "    <tr>\n",
       "      <th>25</th>\n",
       "      <td>1</td>\n",
       "      <td>1.414214</td>\n",
       "    </tr>\n",
       "    <tr>\n",
       "      <th>13</th>\n",
       "      <td>1</td>\n",
       "      <td>1.414214</td>\n",
       "    </tr>\n",
       "    <tr>\n",
       "      <th>30</th>\n",
       "      <td>1</td>\n",
       "      <td>1.802776</td>\n",
       "    </tr>\n",
       "  </tbody>\n",
       "</table>\n",
       "</div>"
      ],
      "text/plain": [
       "              voce  distancia\n",
       "outra_pessoa                 \n",
       "49               1   1.000000\n",
       "9                1   1.000000\n",
       "25               1   1.414214\n",
       "13               1   1.414214\n",
       "30               1   1.802776"
      ]
     },
     "execution_count": 62,
     "metadata": {},
     "output_type": "execute_result"
    }
   ],
   "source": [
    "mais_proximos_de(1, numero_de_usuarios_a_analisar = 50).head()"
   ]
  },
  {
   "cell_type": "code",
   "execution_count": 63,
   "id": "c42adcda",
   "metadata": {
    "ExecuteTime": {
     "end_time": "2022-05-24T00:07:18.997933Z",
     "start_time": "2022-05-24T00:07:18.980937Z"
    }
   },
   "outputs": [],
   "source": [
    "def sugere_para(voce, numero_de_usuarios_a_analisar = None):\n",
    "    notas_de_voce = notas_do_usuario(voce)\n",
    "    filmes_que_voce_ja_viu = notas_de_voce.index\n",
    "\n",
    "    similares = mais_proximos_de(voce, numero_de_usuarios_a_analisar = numero_de_usuarios_a_analisar)\n",
    "    similar = similares.iloc[0].name\n",
    "    notas_do_similar = notas_do_usuario(similar)\n",
    "    notas_do_similar = notas_do_similar.drop(filmes_que_voce_ja_viu, errors='ignore')\n",
    "    recomendacoes = notas_do_similar.sort_values(\"nota\", ascending=False)\n",
    "    return recomendacoes.join(filmes)"
   ]
  },
  {
   "cell_type": "code",
   "execution_count": 64,
   "id": "22c6bf1f",
   "metadata": {
    "ExecuteTime": {
     "end_time": "2022-05-24T00:07:24.396360Z",
     "start_time": "2022-05-24T00:07:23.942478Z"
    }
   },
   "outputs": [
    {
     "data": {
      "text/html": [
       "<div>\n",
       "<style scoped>\n",
       "    .dataframe tbody tr th:only-of-type {\n",
       "        vertical-align: middle;\n",
       "    }\n",
       "\n",
       "    .dataframe tbody tr th {\n",
       "        vertical-align: top;\n",
       "    }\n",
       "\n",
       "    .dataframe thead th {\n",
       "        text-align: right;\n",
       "    }\n",
       "</style>\n",
       "<table border=\"1\" class=\"dataframe\">\n",
       "  <thead>\n",
       "    <tr style=\"text-align: right;\">\n",
       "      <th></th>\n",
       "      <th>nota</th>\n",
       "      <th>titulo</th>\n",
       "      <th>generos</th>\n",
       "      <th>total_votos</th>\n",
       "      <th>nota_media</th>\n",
       "    </tr>\n",
       "    <tr>\n",
       "      <th>filme_id</th>\n",
       "      <th></th>\n",
       "      <th></th>\n",
       "      <th></th>\n",
       "      <th></th>\n",
       "      <th></th>\n",
       "    </tr>\n",
       "  </thead>\n",
       "  <tbody>\n",
       "    <tr>\n",
       "      <th>1200</th>\n",
       "      <td>4.5</td>\n",
       "      <td>Aliens (1986)</td>\n",
       "      <td>Action|Adventure|Horror|Sci-Fi</td>\n",
       "      <td>126.0</td>\n",
       "      <td>3.964286</td>\n",
       "    </tr>\n",
       "    <tr>\n",
       "      <th>4022</th>\n",
       "      <td>4.5</td>\n",
       "      <td>Cast Away (2000)</td>\n",
       "      <td>Drama</td>\n",
       "      <td>100.0</td>\n",
       "      <td>3.700000</td>\n",
       "    </tr>\n",
       "    <tr>\n",
       "      <th>47099</th>\n",
       "      <td>4.5</td>\n",
       "      <td>Pursuit of Happyness, The (2006)</td>\n",
       "      <td>Drama</td>\n",
       "      <td>46.0</td>\n",
       "      <td>3.793478</td>\n",
       "    </tr>\n",
       "    <tr>\n",
       "      <th>79132</th>\n",
       "      <td>4.5</td>\n",
       "      <td>Inception (2010)</td>\n",
       "      <td>Action|Crime|Drama|Mystery|Sci-Fi|Thriller|IMAX</td>\n",
       "      <td>143.0</td>\n",
       "      <td>4.066434</td>\n",
       "    </tr>\n",
       "    <tr>\n",
       "      <th>109487</th>\n",
       "      <td>4.5</td>\n",
       "      <td>Interstellar (2014)</td>\n",
       "      <td>Sci-Fi|IMAX</td>\n",
       "      <td>73.0</td>\n",
       "      <td>3.993151</td>\n",
       "    </tr>\n",
       "  </tbody>\n",
       "</table>\n",
       "</div>"
      ],
      "text/plain": [
       "          nota                            titulo  \\\n",
       "filme_id                                           \n",
       "1200       4.5                     Aliens (1986)   \n",
       "4022       4.5                  Cast Away (2000)   \n",
       "47099      4.5  Pursuit of Happyness, The (2006)   \n",
       "79132      4.5                  Inception (2010)   \n",
       "109487     4.5               Interstellar (2014)   \n",
       "\n",
       "                                                  generos  total_votos  \\\n",
       "filme_id                                                                 \n",
       "1200                       Action|Adventure|Horror|Sci-Fi        126.0   \n",
       "4022                                                Drama        100.0   \n",
       "47099                                               Drama         46.0   \n",
       "79132     Action|Crime|Drama|Mystery|Sci-Fi|Thriller|IMAX        143.0   \n",
       "109487                                        Sci-Fi|IMAX         73.0   \n",
       "\n",
       "          nota_media  \n",
       "filme_id              \n",
       "1200        3.964286  \n",
       "4022        3.700000  \n",
       "47099       3.793478  \n",
       "79132       4.066434  \n",
       "109487      3.993151  "
      ]
     },
     "execution_count": 64,
     "metadata": {},
     "output_type": "execute_result"
    }
   ],
   "source": [
    "sugere_para(1, numero_de_usuarios_a_analisar=50).head()"
   ]
  },
  {
   "cell_type": "code",
   "execution_count": 65,
   "id": "219b4d5a",
   "metadata": {
    "ExecuteTime": {
     "end_time": "2022-05-24T00:07:35.097338Z",
     "start_time": "2022-05-24T00:07:32.411842Z"
    }
   },
   "outputs": [
    {
     "data": {
      "text/html": [
       "<div>\n",
       "<style scoped>\n",
       "    .dataframe tbody tr th:only-of-type {\n",
       "        vertical-align: middle;\n",
       "    }\n",
       "\n",
       "    .dataframe tbody tr th {\n",
       "        vertical-align: top;\n",
       "    }\n",
       "\n",
       "    .dataframe thead th {\n",
       "        text-align: right;\n",
       "    }\n",
       "</style>\n",
       "<table border=\"1\" class=\"dataframe\">\n",
       "  <thead>\n",
       "    <tr style=\"text-align: right;\">\n",
       "      <th></th>\n",
       "      <th>nota</th>\n",
       "      <th>titulo</th>\n",
       "      <th>generos</th>\n",
       "      <th>total_votos</th>\n",
       "      <th>nota_media</th>\n",
       "    </tr>\n",
       "    <tr>\n",
       "      <th>filme_id</th>\n",
       "      <th></th>\n",
       "      <th></th>\n",
       "      <th></th>\n",
       "      <th></th>\n",
       "      <th></th>\n",
       "    </tr>\n",
       "  </thead>\n",
       "  <tbody>\n",
       "    <tr>\n",
       "      <th>8636</th>\n",
       "      <td>5.0</td>\n",
       "      <td>Spider-Man 2 (2004)</td>\n",
       "      <td>Action|Adventure|Sci-Fi|IMAX</td>\n",
       "      <td>79.0</td>\n",
       "      <td>3.803797</td>\n",
       "    </tr>\n",
       "    <tr>\n",
       "      <th>58559</th>\n",
       "      <td>5.0</td>\n",
       "      <td>Dark Knight, The (2008)</td>\n",
       "      <td>Action|Crime|Drama|IMAX</td>\n",
       "      <td>149.0</td>\n",
       "      <td>4.238255</td>\n",
       "    </tr>\n",
       "    <tr>\n",
       "      <th>33794</th>\n",
       "      <td>5.0</td>\n",
       "      <td>Batman Begins (2005)</td>\n",
       "      <td>Action|Crime|IMAX</td>\n",
       "      <td>116.0</td>\n",
       "      <td>3.862069</td>\n",
       "    </tr>\n",
       "    <tr>\n",
       "      <th>4993</th>\n",
       "      <td>5.0</td>\n",
       "      <td>Lord of the Rings: The Fellowship of the Ring,...</td>\n",
       "      <td>Adventure|Fantasy</td>\n",
       "      <td>198.0</td>\n",
       "      <td>4.106061</td>\n",
       "    </tr>\n",
       "    <tr>\n",
       "      <th>5349</th>\n",
       "      <td>5.0</td>\n",
       "      <td>Spider-Man (2002)</td>\n",
       "      <td>Action|Adventure|Sci-Fi|Thriller</td>\n",
       "      <td>122.0</td>\n",
       "      <td>3.540984</td>\n",
       "    </tr>\n",
       "  </tbody>\n",
       "</table>\n",
       "</div>"
      ],
      "text/plain": [
       "          nota                                             titulo  \\\n",
       "filme_id                                                            \n",
       "8636       5.0                                Spider-Man 2 (2004)   \n",
       "58559      5.0                            Dark Knight, The (2008)   \n",
       "33794      5.0                               Batman Begins (2005)   \n",
       "4993       5.0  Lord of the Rings: The Fellowship of the Ring,...   \n",
       "5349       5.0                                  Spider-Man (2002)   \n",
       "\n",
       "                                   generos  total_votos  nota_media  \n",
       "filme_id                                                             \n",
       "8636          Action|Adventure|Sci-Fi|IMAX         79.0    3.803797  \n",
       "58559              Action|Crime|Drama|IMAX        149.0    4.238255  \n",
       "33794                    Action|Crime|IMAX        116.0    3.862069  \n",
       "4993                     Adventure|Fantasy        198.0    4.106061  \n",
       "5349      Action|Adventure|Sci-Fi|Thriller        122.0    3.540984  "
      ]
     },
     "execution_count": 65,
     "metadata": {},
     "output_type": "execute_result"
    }
   ],
   "source": [
    "sugere_para(1).head()"
   ]
  },
  {
   "cell_type": "code",
   "execution_count": null,
   "id": "32e12116",
   "metadata": {},
   "outputs": [],
   "source": []
  }
 ],
 "metadata": {
  "kernelspec": {
   "display_name": "Python 3 (ipykernel)",
   "language": "python",
   "name": "python3"
  },
  "language_info": {
   "codemirror_mode": {
    "name": "ipython",
    "version": 3
   },
   "file_extension": ".py",
   "mimetype": "text/x-python",
   "name": "python",
   "nbconvert_exporter": "python",
   "pygments_lexer": "ipython3",
   "version": "3.8.13"
  }
 },
 "nbformat": 4,
 "nbformat_minor": 5
}
